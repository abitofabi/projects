{
 "cells": [
  {
   "cell_type": "markdown",
   "metadata": {},
   "source": [
    "## POS tagging using modified Viterbi"
   ]
  },
  {
   "cell_type": "markdown",
   "metadata": {},
   "source": [
    "# Objective:\n",
    "    1. Write the vanilla Viterbi algorithm for assigning POS tags (i.e. without dealing with unknown words) \n",
    "    2. Solve the problem of unknown words using at least two techniques. These techniques can use any of the approaches discussed in the class - lexicon, rule-based, probabilistic etc. Note that to implement these techniques, you can either write separate functions and call them from the main Viterbi algorithm, or modify the Viterbi algorithm, or both.\n",
    "    3. Compare the tagging accuracy after making these modifications with the vanilla Viterbi algorithm.\n",
    "    4. List down at least three cases from the sample test file (i.e. unknown word-tag pairs) which were incorrectly tagged by the original Viterbi POS tagger and got corrected after your modifications."
   ]
  },
  {
   "cell_type": "markdown",
   "metadata": {},
   "source": [
    "### Data Preparation"
   ]
  },
  {
   "cell_type": "code",
   "execution_count": 1,
   "metadata": {},
   "outputs": [],
   "source": [
    "#Importing libraries\n",
    "import nltk\n",
    "import numpy as np\n",
    "import pandas as pd\n",
    "import matplotlib.pyplot as plt\n",
    "import seaborn as sns\n",
    "import warnings \n",
    "warnings.filterwarnings('ignore')\n",
    "import random\n",
    "import requests\n",
    "from sklearn.model_selection import train_test_split\n",
    "from nltk.tokenize import word_tokenize\n",
    "from collections import Counter\n",
    "from nltk import pos_tag\n",
    "import pprint,time"
   ]
  },
  {
   "cell_type": "code",
   "execution_count": 2,
   "metadata": {
    "scrolled": true
   },
   "outputs": [],
   "source": [
    "# reading the Treebank tagged sentences\n",
    "nltk_data = list(nltk.corpus.treebank.tagged_sents(tagset='universal'))"
   ]
  },
  {
   "cell_type": "code",
   "execution_count": 3,
   "metadata": {
    "scrolled": true
   },
   "outputs": [
    {
     "data": {
      "text/plain": [
       "[[('Pierre', 'NOUN'),\n",
       "  ('Vinken', 'NOUN'),\n",
       "  (',', '.'),\n",
       "  ('61', 'NUM'),\n",
       "  ('years', 'NOUN'),\n",
       "  ('old', 'ADJ'),\n",
       "  (',', '.'),\n",
       "  ('will', 'VERB'),\n",
       "  ('join', 'VERB'),\n",
       "  ('the', 'DET'),\n",
       "  ('board', 'NOUN'),\n",
       "  ('as', 'ADP'),\n",
       "  ('a', 'DET'),\n",
       "  ('nonexecutive', 'ADJ'),\n",
       "  ('director', 'NOUN'),\n",
       "  ('Nov.', 'NOUN'),\n",
       "  ('29', 'NUM'),\n",
       "  ('.', '.')],\n",
       " [('Mr.', 'NOUN'),\n",
       "  ('Vinken', 'NOUN'),\n",
       "  ('is', 'VERB'),\n",
       "  ('chairman', 'NOUN'),\n",
       "  ('of', 'ADP'),\n",
       "  ('Elsevier', 'NOUN'),\n",
       "  ('N.V.', 'NOUN'),\n",
       "  (',', '.'),\n",
       "  ('the', 'DET'),\n",
       "  ('Dutch', 'NOUN'),\n",
       "  ('publishing', 'VERB'),\n",
       "  ('group', 'NOUN'),\n",
       "  ('.', '.')],\n",
       " [('Rudolph', 'NOUN'),\n",
       "  ('Agnew', 'NOUN'),\n",
       "  (',', '.'),\n",
       "  ('55', 'NUM'),\n",
       "  ('years', 'NOUN'),\n",
       "  ('old', 'ADJ'),\n",
       "  ('and', 'CONJ'),\n",
       "  ('former', 'ADJ'),\n",
       "  ('chairman', 'NOUN'),\n",
       "  ('of', 'ADP'),\n",
       "  ('Consolidated', 'NOUN'),\n",
       "  ('Gold', 'NOUN'),\n",
       "  ('Fields', 'NOUN'),\n",
       "  ('PLC', 'NOUN'),\n",
       "  (',', '.'),\n",
       "  ('was', 'VERB'),\n",
       "  ('named', 'VERB'),\n",
       "  ('*-1', 'X'),\n",
       "  ('a', 'DET'),\n",
       "  ('nonexecutive', 'ADJ'),\n",
       "  ('director', 'NOUN'),\n",
       "  ('of', 'ADP'),\n",
       "  ('this', 'DET'),\n",
       "  ('British', 'ADJ'),\n",
       "  ('industrial', 'ADJ'),\n",
       "  ('conglomerate', 'NOUN'),\n",
       "  ('.', '.')]]"
      ]
     },
     "execution_count": 3,
     "metadata": {},
     "output_type": "execute_result"
    }
   ],
   "source": [
    "# first few tagged sentences\n",
    "nltk_data[:3]"
   ]
  },
  {
   "cell_type": "code",
   "execution_count": 4,
   "metadata": {},
   "outputs": [
    {
     "data": {
      "text/plain": [
       "3914"
      ]
     },
     "execution_count": 4,
     "metadata": {},
     "output_type": "execute_result"
    }
   ],
   "source": [
    "#Lenght of data\n",
    "len(nltk_data)"
   ]
  },
  {
   "cell_type": "markdown",
   "metadata": {},
   "source": [
    "# Split test and train data"
   ]
  },
  {
   "cell_type": "code",
   "execution_count": 5,
   "metadata": {},
   "outputs": [],
   "source": [
    "# Splitting into train and test\n",
    "random.seed(1234)\n",
    "train_set, test_set = train_test_split(nltk_data, test_size=0.05 ,random_state=42)"
   ]
  },
  {
   "cell_type": "code",
   "execution_count": 6,
   "metadata": {},
   "outputs": [],
   "source": [
    "len(train_set);"
   ]
  },
  {
   "cell_type": "code",
   "execution_count": 7,
   "metadata": {},
   "outputs": [
    {
     "data": {
      "text/plain": [
       "196"
      ]
     },
     "execution_count": 7,
     "metadata": {},
     "output_type": "execute_result"
    }
   ],
   "source": [
    "len(test_set)"
   ]
  },
  {
   "cell_type": "code",
   "execution_count": 8,
   "metadata": {
    "scrolled": true
   },
   "outputs": [
    {
     "data": {
      "text/plain": [
       "[[('Bank', 'NOUN'),\n",
       "  ('of', 'ADP'),\n",
       "  ('New', 'NOUN'),\n",
       "  ('England', 'NOUN'),\n",
       "  (\"'s\", 'PRT'),\n",
       "  ('shares', 'NOUN'),\n",
       "  ('are', 'VERB'),\n",
       "  ('traded', 'VERB'),\n",
       "  ('*-1', 'X'),\n",
       "  ('on', 'ADP'),\n",
       "  ('the', 'DET'),\n",
       "  ('New', 'NOUN'),\n",
       "  ('York', 'NOUN'),\n",
       "  ('Stock', 'NOUN'),\n",
       "  ('Exchange', 'NOUN'),\n",
       "  ('.', '.')],\n",
       " [('$', '.'),\n",
       "  ('130', 'NUM'),\n",
       "  ('million', 'NUM'),\n",
       "  ('*U*', 'X'),\n",
       "  ('of', 'ADP'),\n",
       "  ('general', 'ADJ'),\n",
       "  ('obligation', 'NOUN'),\n",
       "  ('distributable', 'ADJ'),\n",
       "  ('state', 'NOUN'),\n",
       "  ('aid', 'NOUN'),\n",
       "  ('bonds', 'NOUN'),\n",
       "  ('due', 'ADJ'),\n",
       "  ('1991-2000', 'NUM'),\n",
       "  ('and', 'CONJ'),\n",
       "  ('2009', 'NUM'),\n",
       "  (',', '.'),\n",
       "  ('tentatively', 'ADV'),\n",
       "  ('priced', 'VERB'),\n",
       "  ('*', 'X'),\n",
       "  ('by', 'ADP'),\n",
       "  ('a', 'DET'),\n",
       "  ('Chemical', 'NOUN'),\n",
       "  ('Securities', 'NOUN'),\n",
       "  ('Inc.', 'NOUN'),\n",
       "  ('group', 'NOUN'),\n",
       "  ('*', 'X'),\n",
       "  ('to', 'PRT'),\n",
       "  ('yield', 'VERB'),\n",
       "  ('from', 'ADP'),\n",
       "  ('6.20', 'NUM'),\n",
       "  ('%', 'NOUN'),\n",
       "  ('in', 'ADP'),\n",
       "  ('1991', 'NUM'),\n",
       "  ('to', 'PRT'),\n",
       "  ('7.272', 'NUM'),\n",
       "  ('%', 'NOUN'),\n",
       "  ('in', 'ADP'),\n",
       "  ('2009', 'NUM'),\n",
       "  ('.', '.')],\n",
       " [('``', '.'),\n",
       "  ('They', 'PRON'),\n",
       "  ('were', 'VERB'),\n",
       "  ('a', 'DET'),\n",
       "  ('self-perpetuating', 'ADJ'),\n",
       "  ('club', 'NOUN'),\n",
       "  ('that', 'DET'),\n",
       "  ('*T*-229', 'X'),\n",
       "  ('treated', 'VERB'),\n",
       "  ('the', 'DET'),\n",
       "  ('tower', 'NOUN'),\n",
       "  ('as', 'ADP'),\n",
       "  ('sort', 'NOUN'),\n",
       "  ('of', 'ADP'),\n",
       "  ('a', 'DET'),\n",
       "  ('separate', 'ADJ'),\n",
       "  ('premises', 'NOUN'),\n",
       "  (',', '.'),\n",
       "  (\"''\", '.'),\n",
       "  ('the', 'DET'),\n",
       "  ('Vicar', 'NOUN'),\n",
       "  ('Hummerstone', 'NOUN'),\n",
       "  ('says', 'VERB'),\n",
       "  ('*T*-1', 'X'),\n",
       "  ('.', '.')],\n",
       " [('Valley', 'NOUN'),\n",
       "  ('Federal', 'NOUN'),\n",
       "  ('Savings', 'NOUN'),\n",
       "  ('&', 'CONJ'),\n",
       "  ('Loan', 'NOUN'),\n",
       "  ('Association', 'NOUN'),\n",
       "  ('took', 'VERB'),\n",
       "  ('an', 'DET'),\n",
       "  ('$', '.'),\n",
       "  ('89.9', 'NUM'),\n",
       "  ('million', 'NUM'),\n",
       "  ('*U*', 'X'),\n",
       "  ('charge', 'NOUN'),\n",
       "  ('as', 'ADP'),\n",
       "  ('it', 'PRON'),\n",
       "  ('reported', 'VERB'),\n",
       "  ('a', 'DET'),\n",
       "  ('third-quarter', 'NOUN'),\n",
       "  ('loss', 'NOUN'),\n",
       "  ('of', 'ADP'),\n",
       "  ('$', '.'),\n",
       "  ('70.7', 'NUM'),\n",
       "  ('million', 'NUM'),\n",
       "  ('*U*', 'X'),\n",
       "  (',', '.'),\n",
       "  ('or', 'CONJ'),\n",
       "  ('$', '.'),\n",
       "  ('12.09', 'NUM'),\n",
       "  ('*U*', 'X'),\n",
       "  ('a', 'DET'),\n",
       "  ('share', 'NOUN'),\n",
       "  ('.', '.')],\n",
       " [('``', '.'),\n",
       "  ('The', 'DET'),\n",
       "  ('Herald', 'NOUN'),\n",
       "  ('was', 'VERB'),\n",
       "  ('a', 'DET'),\n",
       "  ('survivor', 'NOUN'),\n",
       "  ('from', 'ADP'),\n",
       "  ('a', 'DET'),\n",
       "  ('bygone', 'ADJ'),\n",
       "  ('age', 'NOUN'),\n",
       "  (',', '.'),\n",
       "  (\"''\", '.'),\n",
       "  ('said', 'VERB'),\n",
       "  ('*T*-1', 'X'),\n",
       "  ('J.', 'NOUN'),\n",
       "  ('Kendrick', 'NOUN'),\n",
       "  ('Noble', 'NOUN'),\n",
       "  (',', '.'),\n",
       "  ('a', 'DET'),\n",
       "  ('media', 'NOUN'),\n",
       "  ('analyst', 'NOUN'),\n",
       "  ('with', 'ADP'),\n",
       "  ('PaineWebber', 'NOUN'),\n",
       "  ('Inc', 'NOUN'),\n",
       "  ('.', '.')]]"
      ]
     },
     "execution_count": 8,
     "metadata": {},
     "output_type": "execute_result"
    }
   ],
   "source": [
    "train_set[:5]"
   ]
  },
  {
   "cell_type": "code",
   "execution_count": 9,
   "metadata": {},
   "outputs": [
    {
     "data": {
      "text/plain": [
       "[[('For', 'ADP'),\n",
       "  ('the', 'DET'),\n",
       "  ('Agency', 'NOUN'),\n",
       "  ('for', 'ADP'),\n",
       "  ('International', 'NOUN'),\n",
       "  ('Development', 'NOUN'),\n",
       "  (',', '.'),\n",
       "  ('appropriators', 'NOUN'),\n",
       "  ('approved', 'VERB'),\n",
       "  ('$', '.'),\n",
       "  ('200', 'NUM'),\n",
       "  ('million', 'NUM'),\n",
       "  ('*U*', 'X'),\n",
       "  ('in', 'ADP'),\n",
       "  ('secondary', 'ADJ'),\n",
       "  ('loan', 'NOUN'),\n",
       "  ('guarantees', 'NOUN'),\n",
       "  ('under', 'ADP'),\n",
       "  ('an', 'DET'),\n",
       "  ('expanded', 'VERB'),\n",
       "  ('trade', 'NOUN'),\n",
       "  ('credit', 'NOUN'),\n",
       "  ('insurance', 'NOUN'),\n",
       "  ('program', 'NOUN'),\n",
       "  (',', '.'),\n",
       "  ('and', 'CONJ'),\n",
       "  ('total', 'ADJ'),\n",
       "  ('loan', 'NOUN'),\n",
       "  ('guarantees', 'NOUN'),\n",
       "  ('for', 'ADP'),\n",
       "  ('the', 'DET'),\n",
       "  ('Overseas', 'NOUN'),\n",
       "  ('Private', 'NOUN'),\n",
       "  ('Investment', 'NOUN'),\n",
       "  ('Corp.', 'NOUN'),\n",
       "  ('are', 'VERB'),\n",
       "  ('increased', 'VERB'),\n",
       "  ('*-3', 'X'),\n",
       "  ('by', 'ADP'),\n",
       "  ('$', '.'),\n",
       "  ('40', 'NUM'),\n",
       "  ('million', 'NUM'),\n",
       "  ('*U*', 'X'),\n",
       "  ('over', 'ADP'),\n",
       "  ('fiscal', 'ADJ'),\n",
       "  ('1989', 'NUM'),\n",
       "  ('as', 'ADP'),\n",
       "  ('part', 'NOUN'),\n",
       "  ('of', 'ADP'),\n",
       "  ('the', 'DET'),\n",
       "  ('same', 'ADJ'),\n",
       "  ('Poland', 'NOUN'),\n",
       "  ('package', 'NOUN'),\n",
       "  ('.', '.')],\n",
       " [('The', 'DET'),\n",
       "  ('market', 'NOUN'),\n",
       "  ('is', 'VERB'),\n",
       "  ('just', 'ADV'),\n",
       "  ('becoming', 'VERB'),\n",
       "  ('more', 'ADV'),\n",
       "  ('efficient', 'ADJ'),\n",
       "  ('.', '.'),\n",
       "  (\"''\", '.')],\n",
       " [('Moscow', 'NOUN'),\n",
       "  ('has', 'VERB'),\n",
       "  ('settled', 'VERB'),\n",
       "  ('pre-1917', 'ADJ'),\n",
       "  ('debts', 'NOUN'),\n",
       "  ('with', 'ADP'),\n",
       "  ('other', 'ADJ'),\n",
       "  ('countries', 'NOUN'),\n",
       "  ('in', 'ADP'),\n",
       "  ('recent', 'ADJ'),\n",
       "  ('years', 'NOUN'),\n",
       "  ('at', 'ADP'),\n",
       "  ('less', 'ADJ'),\n",
       "  ('than', 'ADP'),\n",
       "  ('face', 'NOUN'),\n",
       "  ('value', 'NOUN'),\n",
       "  ('.', '.')],\n",
       " [('``', '.'),\n",
       "  ('Unemployment', 'NOUN'),\n",
       "  ('continues', 'VERB'),\n",
       "  ('at', 'ADP'),\n",
       "  ('a', 'DET'),\n",
       "  ('relatively', 'ADV'),\n",
       "  ('low', 'ADJ'),\n",
       "  ('level', 'NOUN'),\n",
       "  (',', '.'),\n",
       "  ('*', 'X'),\n",
       "  ('providing', 'VERB'),\n",
       "  ('a', 'DET'),\n",
       "  ('sense', 'NOUN'),\n",
       "  ('of', 'ADP'),\n",
       "  ('job', 'NOUN'),\n",
       "  ('security', 'NOUN'),\n",
       "  (',', '.'),\n",
       "  ('and', 'CONJ'),\n",
       "  ('a', 'DET'),\n",
       "  ('low', 'ADJ'),\n",
       "  ('inflation', 'NOUN'),\n",
       "  ('rate', 'NOUN'),\n",
       "  ('has', 'VERB'),\n",
       "  ('kept', 'VERB'),\n",
       "  ('the', 'DET'),\n",
       "  ('purchasing', 'VERB'),\n",
       "  ('power', 'NOUN'),\n",
       "  ('of', 'ADP'),\n",
       "  ('the', 'DET'),\n",
       "  ('weekly', 'ADJ'),\n",
       "  ('paycheck', 'NOUN'),\n",
       "  ('reasonably', 'ADV'),\n",
       "  ('strong', 'ADJ'),\n",
       "  ('.', '.'),\n",
       "  (\"''\", '.')],\n",
       " [('At', 'ADP'),\n",
       "  ('the', 'DET'),\n",
       "  ('same', 'ADJ'),\n",
       "  ('time', 'NOUN'),\n",
       "  (',', '.'),\n",
       "  ('though', 'ADV'),\n",
       "  (',', '.'),\n",
       "  ('he', 'PRON'),\n",
       "  ('chastised', 'VERB'),\n",
       "  ('the', 'DET'),\n",
       "  ('media', 'NOUN'),\n",
       "  ('for', 'ADP'),\n",
       "  ('*', 'X'),\n",
       "  ('paying', 'VERB'),\n",
       "  ('such', 'ADJ'),\n",
       "  ('close', 'ADJ'),\n",
       "  ('attention', 'NOUN'),\n",
       "  ('to', 'PRT'),\n",
       "  ('Japanese', 'ADJ'),\n",
       "  ('investment', 'NOUN'),\n",
       "  ('when', 'ADV'),\n",
       "  ('other', 'ADJ'),\n",
       "  ('foreign', 'ADJ'),\n",
       "  ('countries', 'NOUN'),\n",
       "  (',', '.'),\n",
       "  ('notably', 'ADV'),\n",
       "  ('Britain', 'NOUN'),\n",
       "  (',', '.'),\n",
       "  ('are', 'VERB'),\n",
       "  ('acquiring', 'VERB'),\n",
       "  ('more', 'ADJ'),\n",
       "  ('American', 'ADJ'),\n",
       "  ('assets', 'NOUN'),\n",
       "  ('*T*-1', 'X'),\n",
       "  ('.', '.')],\n",
       " [('*-1', 'X'),\n",
       "  ('Funded', 'VERB'),\n",
       "  ('*-2', 'X'),\n",
       "  ('by', 'ADP'),\n",
       "  ('a', 'DET'),\n",
       "  ('$', '.'),\n",
       "  ('1', 'NUM'),\n",
       "  ('million', 'NUM'),\n",
       "  ('*U*', 'X'),\n",
       "  ('gift', 'NOUN'),\n",
       "  ('from', 'ADP'),\n",
       "  ('Tokio', 'NOUN'),\n",
       "  ('Marine', 'NOUN'),\n",
       "  ('&', 'CONJ'),\n",
       "  ('Fire', 'NOUN'),\n",
       "  ('Insurance', 'NOUN'),\n",
       "  (',', '.'),\n",
       "  ('the', 'DET'),\n",
       "  ('service', 'NOUN'),\n",
       "  ('will', 'VERB'),\n",
       "  ('follow', 'VERB'),\n",
       "  ('Japanese', 'ADJ'),\n",
       "  ('medical', 'ADJ'),\n",
       "  ('protocols', 'NOUN'),\n",
       "  (',', '.'),\n",
       "  ('including', 'VERB'),\n",
       "  ('emphasis', 'NOUN'),\n",
       "  ('on', 'ADP'),\n",
       "  ('preventative', 'ADJ'),\n",
       "  ('medicine', 'NOUN'),\n",
       "  ('.', '.')],\n",
       " [('On', 'ADP'),\n",
       "  ('the', 'DET'),\n",
       "  ('other', 'ADJ'),\n",
       "  ('hand', 'NOUN'),\n",
       "  (',', '.'),\n",
       "  ('had', 'VERB'),\n",
       "  ('it', 'PRON'),\n",
       "  ('existed', 'VERB'),\n",
       "  ('then', 'ADV'),\n",
       "  (',', '.'),\n",
       "  ('Cray', 'NOUN'),\n",
       "  ('Computer', 'NOUN'),\n",
       "  ('would', 'VERB'),\n",
       "  ('have', 'VERB'),\n",
       "  ('incurred', 'VERB'),\n",
       "  ('a', 'DET'),\n",
       "  ('$', '.'),\n",
       "  ('20.5', 'NUM'),\n",
       "  ('million', 'NUM'),\n",
       "  ('*U*', 'X'),\n",
       "  ('loss', 'NOUN'),\n",
       "  ('.', '.')],\n",
       " [('``', '.'),\n",
       "  ('The', 'DET'),\n",
       "  ('disturbing', 'ADJ'),\n",
       "  ('thing', 'NOUN'),\n",
       "  ('about', 'ADP'),\n",
       "  ('this', 'DET'),\n",
       "  ('abortion', 'NOUN'),\n",
       "  ('issue', 'NOUN'),\n",
       "  ('is', 'VERB'),\n",
       "  ('that', 'ADP'),\n",
       "  ('the', 'DET'),\n",
       "  ('debate', 'NOUN'),\n",
       "  ('has', 'VERB'),\n",
       "  ('become', 'VERB'),\n",
       "  ('polarized', 'VERB'),\n",
       "  ('*-1', 'X'),\n",
       "  (',', '.'),\n",
       "  ('so', 'ADP'),\n",
       "  ('that', 'ADP'),\n",
       "  ('no', 'DET'),\n",
       "  ('mechanism', 'NOUN'),\n",
       "  ('*ICH*-2', 'X'),\n",
       "  ('exists', 'VERB'),\n",
       "  (\"''\", '.'),\n",
       "  ('for', 'ADP'),\n",
       "  ('*', 'X'),\n",
       "  ('finding', 'VERB'),\n",
       "  ('a', 'DET'),\n",
       "  ('middle', 'ADJ'),\n",
       "  ('ground', 'NOUN'),\n",
       "  ('.', '.')],\n",
       " [('Though', 'ADP'),\n",
       "  ('some', 'DET'),\n",
       "  ('lawyers', 'NOUN'),\n",
       "  ('reported', 'VERB'),\n",
       "  ('that', 'ADP'),\n",
       "  ('prospective', 'ADJ'),\n",
       "  ('acquirers', 'NOUN'),\n",
       "  ('were', 'VERB'),\n",
       "  ('scrambling', 'VERB'),\n",
       "  ('*-1', 'X'),\n",
       "  ('to', 'PRT'),\n",
       "  ('make', 'VERB'),\n",
       "  ('filings', 'NOUN'),\n",
       "  ('before', 'ADP'),\n",
       "  ('the', 'DET'),\n",
       "  ('fees', 'NOUN'),\n",
       "  ('take', 'VERB'),\n",
       "  ('effect', 'NOUN'),\n",
       "  (',', '.'),\n",
       "  ('government', 'NOUN'),\n",
       "  ('officials', 'NOUN'),\n",
       "  ('said', 'VERB'),\n",
       "  ('0', 'X'),\n",
       "  ('they', 'PRON'),\n",
       "  ('had', 'VERB'),\n",
       "  (\"n't\", 'ADV'),\n",
       "  ('noticed', 'VERB'),\n",
       "  ('any', 'DET'),\n",
       "  ('surge', 'NOUN'),\n",
       "  ('in', 'ADP'),\n",
       "  ('filings', 'NOUN'),\n",
       "  ('.', '.')],\n",
       " [('Big', 'NOUN'),\n",
       "  ('Board', 'NOUN'),\n",
       "  ('volume', 'NOUN'),\n",
       "  ('totaled', 'VERB'),\n",
       "  ('154.2', 'NUM'),\n",
       "  ('million', 'NUM'),\n",
       "  ('shares', 'NOUN'),\n",
       "  ('.', '.')]]"
      ]
     },
     "execution_count": 9,
     "metadata": {},
     "output_type": "execute_result"
    }
   ],
   "source": [
    "test_set[:10]"
   ]
  },
  {
   "cell_type": "code",
   "execution_count": 10,
   "metadata": {},
   "outputs": [
    {
     "data": {
      "text/plain": [
       "95589"
      ]
     },
     "execution_count": 10,
     "metadata": {},
     "output_type": "execute_result"
    }
   ],
   "source": [
    "# Getting list of tagged words\n",
    "train_tagged_words = [tup for sent in train_set for tup in sent]\n",
    "len(train_tagged_words)"
   ]
  },
  {
   "cell_type": "code",
   "execution_count": 11,
   "metadata": {},
   "outputs": [
    {
     "data": {
      "text/plain": [
       "['Bank', 'of', 'New', 'England', \"'s\", 'shares', 'are', 'traded', '*-1', 'on']"
      ]
     },
     "execution_count": 11,
     "metadata": {},
     "output_type": "execute_result"
    }
   ],
   "source": [
    "# tokens \n",
    "tokens = [pair[0] for pair in train_tagged_words]\n",
    "tokens[:10]"
   ]
  },
  {
   "cell_type": "code",
   "execution_count": 12,
   "metadata": {},
   "outputs": [
    {
     "data": {
      "text/plain": [
       "['NOUN', 'ADP', 'NOUN', 'NOUN', 'PRT', 'NOUN', 'VERB', 'VERB', 'X', 'ADP']"
      ]
     },
     "execution_count": 12,
     "metadata": {},
     "output_type": "execute_result"
    }
   ],
   "source": [
    "# number of tags\n",
    "train_data_pos_tags = [pair[1] for pair in train_tagged_words]\n",
    "train_data_pos_tags[:10]"
   ]
  },
  {
   "cell_type": "code",
   "execution_count": 13,
   "metadata": {},
   "outputs": [
    {
     "data": {
      "text/plain": [
       "12109"
      ]
     },
     "execution_count": 13,
     "metadata": {},
     "output_type": "execute_result"
    }
   ],
   "source": [
    "# vocabulary\n",
    "train_voc_set= set(tokens)\n",
    "len(train_voc_set)"
   ]
  },
  {
   "cell_type": "code",
   "execution_count": 14,
   "metadata": {},
   "outputs": [
    {
     "data": {
      "text/plain": [
       "12"
      ]
     },
     "execution_count": 14,
     "metadata": {},
     "output_type": "execute_result"
    }
   ],
   "source": [
    "train_pos_tag_set= set(train_data_pos_tags)\n",
    "len(train_pos_tag_set)"
   ]
  },
  {
   "cell_type": "markdown",
   "metadata": {},
   "source": [
    "### Build the vanilla Viterbi based POS tagger"
   ]
  },
  {
   "cell_type": "code",
   "execution_count": 15,
   "metadata": {},
   "outputs": [],
   "source": [
    "# computing P(w/t) and storing in T x V matrix\n",
    "len_pos_tags = len(train_pos_tag_set)\n",
    "len_vocab = len(train_voc_set)\n",
    "\n",
    "word_given_tag = np.zeros((len_pos_tags, len_vocab))"
   ]
  },
  {
   "cell_type": "code",
   "execution_count": 16,
   "metadata": {},
   "outputs": [],
   "source": [
    "# compute word given tag: Emission Probability\n",
    "\n",
    "def word_given_tag(word, tag, train_bag = train_tagged_words):\n",
    "    tag_list = [pair for pair in train_bag if pair[1]==tag]\n",
    "    count_tag = len(tag_list)\n",
    "    tag_count = Counter(tag_list)\n",
    "    count_w_given_tag = tag_count[(word,tag)]\n",
    "    \n",
    "    return (count_w_given_tag, count_tag)"
   ]
  },
  {
   "cell_type": "code",
   "execution_count": 17,
   "metadata": {},
   "outputs": [],
   "source": [
    "# compute tag given tag: tag2(t2) given tag1 (t1), i.e. Transition Probability\n",
    "\n",
    "def t2_given_t1(t2, t1, train_bag = train_tagged_words):\n",
    "    tags = [pair[1] for pair in train_bag]\n",
    "    count_t1 = len([t for t in tags if t==t1])\n",
    "    count_t2_t1 = 0\n",
    "    for index in range(len(tags)-1):\n",
    "        if tags[index]==t1 and tags[index+1] == t2:\n",
    "            count_t2_t1 += 1\n",
    "    return (count_t2_t1, count_t1)"
   ]
  },
  {
   "cell_type": "code",
   "execution_count": 18,
   "metadata": {
    "scrolled": true
   },
   "outputs": [
    {
     "data": {
      "text/plain": [
       "array([[1.72284637e-02, 3.26377749e-01, 8.23970046e-03, 1.31621184e-02,\n",
       "        3.94863561e-02, 1.05296947e-01, 1.49812736e-03, 3.21776360e-01,\n",
       "        6.91278726e-02, 8.56072758e-04, 3.40288915e-02, 6.29213452e-02],\n",
       "       [9.05359723e-03, 5.31144394e-03, 3.83872539e-02, 1.23128919e-02,\n",
       "        1.79864801e-02, 2.04973444e-01, 2.41429268e-04, 6.40028954e-01,\n",
       "        3.74215352e-03, 4.82858537e-04, 4.55094166e-02, 2.19700634e-02],\n",
       "       [9.04928222e-02, 1.33100510e-01, 1.69188976e-01, 8.25766400e-02,\n",
       "        3.53123769e-02, 6.46488145e-02, 3.11214589e-02, 1.10904150e-01,\n",
       "        3.62436958e-02, 5.58789307e-03, 2.18005434e-01, 2.28172299e-02],\n",
       "       [1.19601332e-01, 6.71096370e-02, 3.44518274e-01, 8.10631216e-02,\n",
       "        1.36877075e-01, 1.30232558e-01, 1.36212623e-02, 3.08970101e-02,\n",
       "        1.56146176e-02, 6.31229253e-03, 2.35880390e-02, 3.05647831e-02],\n",
       "       [9.11135077e-02, 1.73502430e-01, 8.85051265e-02, 5.20777106e-02,\n",
       "        9.38118398e-02, 4.49721180e-02, 2.33855005e-03, 2.23151639e-01,\n",
       "        6.53894618e-02, 5.79240881e-02, 2.66234931e-02, 8.05000886e-02],\n",
       "       [7.89863393e-02, 5.10120112e-03, 1.23416157e-02, 4.60753683e-03,\n",
       "        6.53282851e-02, 6.66447282e-02, 1.08606219e-02, 6.96725368e-01,\n",
       "        6.58219506e-04, 1.69491526e-02, 2.13921349e-02, 2.04048045e-02],\n",
       "       [2.15756781e-02, 1.00359596e-01, 4.02745992e-01, 1.01340311e-02,\n",
       "        4.15168367e-02, 8.63027126e-02, 1.63452106e-03, 2.42562935e-01,\n",
       "        1.89604443e-02, 2.28832942e-03, 1.34030730e-02, 5.85158542e-02],\n",
       "       [1.76275387e-01, 1.33099956e-02, 1.47977978e-01, 1.68836378e-02,\n",
       "        2.39178792e-01, 1.22889541e-02, 4.38318215e-02, 2.64631867e-01,\n",
       "        4.92287474e-03, 4.19356003e-02, 2.91361269e-02, 9.62695573e-03],\n",
       "       [2.29182579e-02, 9.54927411e-03, 4.80901450e-01, 3.39954160e-02,\n",
       "        4.12528664e-02, 7.48663098e-02, 1.22230714e-02, 2.11229950e-01,\n",
       "        8.02139007e-03, 4.96562244e-03, 9.28189456e-02, 7.25744851e-03],\n",
       "       [5.44345379e-02, 1.21539183e-01, 1.53918341e-01, 5.58423288e-02,\n",
       "        3.42562161e-02, 1.16846554e-01, 4.69263270e-03, 3.49131852e-01,\n",
       "        5.86579069e-02, 4.69263265e-04, 7.97747541e-03, 4.22336943e-02],\n",
       "       [1.42925426e-01, 5.51306568e-02, 2.03632891e-01, 2.51752716e-02,\n",
       "        1.63798600e-01, 1.65710635e-02, 1.85787126e-01, 6.13448061e-02,\n",
       "        5.60866781e-02, 1.03569152e-02, 7.64818341e-02, 2.70873168e-03],\n",
       "       [3.47903669e-02, 3.27088917e-03, 1.75438598e-02, 2.97353556e-03,\n",
       "        1.18346713e-01, 3.41956578e-02, 2.79512331e-02, 3.55337501e-01,\n",
       "        1.48676778e-03, 1.33809103e-02, 2.06660718e-01, 1.84061855e-01]],\n",
       "      dtype=float32)"
      ]
     },
     "execution_count": 18,
     "metadata": {},
     "output_type": "execute_result"
    }
   ],
   "source": [
    "# creating t x t transition matrix of tags\n",
    "# each column is t2, each row is t1\n",
    "# thus M(i, j) represents P(tj given ti)\n",
    "tags_matrix = np.zeros((len_pos_tags, len_pos_tags), dtype='float32')\n",
    "for i, t1 in enumerate(list(train_pos_tag_set)):\n",
    "    for j, t2 in enumerate(list(train_pos_tag_set)): \n",
    "        tags_matrix[i, j] = t2_given_t1(t2, t1)[0]/t2_given_t1(t2, t1)[1]\n",
    "\n",
    "# Display the matrix\n",
    "tags_matrix"
   ]
  },
  {
   "cell_type": "code",
   "execution_count": 19,
   "metadata": {},
   "outputs": [
    {
     "data": {
      "text/html": [
       "<div>\n",
       "<style scoped>\n",
       "    .dataframe tbody tr th:only-of-type {\n",
       "        vertical-align: middle;\n",
       "    }\n",
       "\n",
       "    .dataframe tbody tr th {\n",
       "        vertical-align: top;\n",
       "    }\n",
       "\n",
       "    .dataframe thead th {\n",
       "        text-align: right;\n",
       "    }\n",
       "</style>\n",
       "<table border=\"1\" class=\"dataframe\">\n",
       "  <thead>\n",
       "    <tr style=\"text-align: right;\">\n",
       "      <th></th>\n",
       "      <th>ADP</th>\n",
       "      <th>DET</th>\n",
       "      <th>VERB</th>\n",
       "      <th>ADV</th>\n",
       "      <th>.</th>\n",
       "      <th>ADJ</th>\n",
       "      <th>PRT</th>\n",
       "      <th>NOUN</th>\n",
       "      <th>PRON</th>\n",
       "      <th>CONJ</th>\n",
       "      <th>X</th>\n",
       "      <th>NUM</th>\n",
       "    </tr>\n",
       "  </thead>\n",
       "  <tbody>\n",
       "    <tr>\n",
       "      <th>ADP</th>\n",
       "      <td>0.017228</td>\n",
       "      <td>0.326378</td>\n",
       "      <td>0.008240</td>\n",
       "      <td>0.013162</td>\n",
       "      <td>0.039486</td>\n",
       "      <td>0.105297</td>\n",
       "      <td>0.001498</td>\n",
       "      <td>0.321776</td>\n",
       "      <td>0.069128</td>\n",
       "      <td>0.000856</td>\n",
       "      <td>0.034029</td>\n",
       "      <td>0.062921</td>\n",
       "    </tr>\n",
       "    <tr>\n",
       "      <th>DET</th>\n",
       "      <td>0.009054</td>\n",
       "      <td>0.005311</td>\n",
       "      <td>0.038387</td>\n",
       "      <td>0.012313</td>\n",
       "      <td>0.017986</td>\n",
       "      <td>0.204973</td>\n",
       "      <td>0.000241</td>\n",
       "      <td>0.640029</td>\n",
       "      <td>0.003742</td>\n",
       "      <td>0.000483</td>\n",
       "      <td>0.045509</td>\n",
       "      <td>0.021970</td>\n",
       "    </tr>\n",
       "    <tr>\n",
       "      <th>VERB</th>\n",
       "      <td>0.090493</td>\n",
       "      <td>0.133101</td>\n",
       "      <td>0.169189</td>\n",
       "      <td>0.082577</td>\n",
       "      <td>0.035312</td>\n",
       "      <td>0.064649</td>\n",
       "      <td>0.031121</td>\n",
       "      <td>0.110904</td>\n",
       "      <td>0.036244</td>\n",
       "      <td>0.005588</td>\n",
       "      <td>0.218005</td>\n",
       "      <td>0.022817</td>\n",
       "    </tr>\n",
       "    <tr>\n",
       "      <th>ADV</th>\n",
       "      <td>0.119601</td>\n",
       "      <td>0.067110</td>\n",
       "      <td>0.344518</td>\n",
       "      <td>0.081063</td>\n",
       "      <td>0.136877</td>\n",
       "      <td>0.130233</td>\n",
       "      <td>0.013621</td>\n",
       "      <td>0.030897</td>\n",
       "      <td>0.015615</td>\n",
       "      <td>0.006312</td>\n",
       "      <td>0.023588</td>\n",
       "      <td>0.030565</td>\n",
       "    </tr>\n",
       "    <tr>\n",
       "      <th>.</th>\n",
       "      <td>0.091114</td>\n",
       "      <td>0.173502</td>\n",
       "      <td>0.088505</td>\n",
       "      <td>0.052078</td>\n",
       "      <td>0.093812</td>\n",
       "      <td>0.044972</td>\n",
       "      <td>0.002339</td>\n",
       "      <td>0.223152</td>\n",
       "      <td>0.065389</td>\n",
       "      <td>0.057924</td>\n",
       "      <td>0.026623</td>\n",
       "      <td>0.080500</td>\n",
       "    </tr>\n",
       "    <tr>\n",
       "      <th>ADJ</th>\n",
       "      <td>0.078986</td>\n",
       "      <td>0.005101</td>\n",
       "      <td>0.012342</td>\n",
       "      <td>0.004608</td>\n",
       "      <td>0.065328</td>\n",
       "      <td>0.066645</td>\n",
       "      <td>0.010861</td>\n",
       "      <td>0.696725</td>\n",
       "      <td>0.000658</td>\n",
       "      <td>0.016949</td>\n",
       "      <td>0.021392</td>\n",
       "      <td>0.020405</td>\n",
       "    </tr>\n",
       "    <tr>\n",
       "      <th>PRT</th>\n",
       "      <td>0.021576</td>\n",
       "      <td>0.100360</td>\n",
       "      <td>0.402746</td>\n",
       "      <td>0.010134</td>\n",
       "      <td>0.041517</td>\n",
       "      <td>0.086303</td>\n",
       "      <td>0.001635</td>\n",
       "      <td>0.242563</td>\n",
       "      <td>0.018960</td>\n",
       "      <td>0.002288</td>\n",
       "      <td>0.013403</td>\n",
       "      <td>0.058516</td>\n",
       "    </tr>\n",
       "    <tr>\n",
       "      <th>NOUN</th>\n",
       "      <td>0.176275</td>\n",
       "      <td>0.013310</td>\n",
       "      <td>0.147978</td>\n",
       "      <td>0.016884</td>\n",
       "      <td>0.239179</td>\n",
       "      <td>0.012289</td>\n",
       "      <td>0.043832</td>\n",
       "      <td>0.264632</td>\n",
       "      <td>0.004923</td>\n",
       "      <td>0.041936</td>\n",
       "      <td>0.029136</td>\n",
       "      <td>0.009627</td>\n",
       "    </tr>\n",
       "    <tr>\n",
       "      <th>PRON</th>\n",
       "      <td>0.022918</td>\n",
       "      <td>0.009549</td>\n",
       "      <td>0.480901</td>\n",
       "      <td>0.033995</td>\n",
       "      <td>0.041253</td>\n",
       "      <td>0.074866</td>\n",
       "      <td>0.012223</td>\n",
       "      <td>0.211230</td>\n",
       "      <td>0.008021</td>\n",
       "      <td>0.004966</td>\n",
       "      <td>0.092819</td>\n",
       "      <td>0.007257</td>\n",
       "    </tr>\n",
       "    <tr>\n",
       "      <th>CONJ</th>\n",
       "      <td>0.054435</td>\n",
       "      <td>0.121539</td>\n",
       "      <td>0.153918</td>\n",
       "      <td>0.055842</td>\n",
       "      <td>0.034256</td>\n",
       "      <td>0.116847</td>\n",
       "      <td>0.004693</td>\n",
       "      <td>0.349132</td>\n",
       "      <td>0.058658</td>\n",
       "      <td>0.000469</td>\n",
       "      <td>0.007977</td>\n",
       "      <td>0.042234</td>\n",
       "    </tr>\n",
       "    <tr>\n",
       "      <th>X</th>\n",
       "      <td>0.142925</td>\n",
       "      <td>0.055131</td>\n",
       "      <td>0.203633</td>\n",
       "      <td>0.025175</td>\n",
       "      <td>0.163799</td>\n",
       "      <td>0.016571</td>\n",
       "      <td>0.185787</td>\n",
       "      <td>0.061345</td>\n",
       "      <td>0.056087</td>\n",
       "      <td>0.010357</td>\n",
       "      <td>0.076482</td>\n",
       "      <td>0.002709</td>\n",
       "    </tr>\n",
       "    <tr>\n",
       "      <th>NUM</th>\n",
       "      <td>0.034790</td>\n",
       "      <td>0.003271</td>\n",
       "      <td>0.017544</td>\n",
       "      <td>0.002974</td>\n",
       "      <td>0.118347</td>\n",
       "      <td>0.034196</td>\n",
       "      <td>0.027951</td>\n",
       "      <td>0.355338</td>\n",
       "      <td>0.001487</td>\n",
       "      <td>0.013381</td>\n",
       "      <td>0.206661</td>\n",
       "      <td>0.184062</td>\n",
       "    </tr>\n",
       "  </tbody>\n",
       "</table>\n",
       "</div>"
      ],
      "text/plain": [
       "           ADP       DET      VERB       ADV         .       ADJ       PRT  \\\n",
       "ADP   0.017228  0.326378  0.008240  0.013162  0.039486  0.105297  0.001498   \n",
       "DET   0.009054  0.005311  0.038387  0.012313  0.017986  0.204973  0.000241   \n",
       "VERB  0.090493  0.133101  0.169189  0.082577  0.035312  0.064649  0.031121   \n",
       "ADV   0.119601  0.067110  0.344518  0.081063  0.136877  0.130233  0.013621   \n",
       ".     0.091114  0.173502  0.088505  0.052078  0.093812  0.044972  0.002339   \n",
       "ADJ   0.078986  0.005101  0.012342  0.004608  0.065328  0.066645  0.010861   \n",
       "PRT   0.021576  0.100360  0.402746  0.010134  0.041517  0.086303  0.001635   \n",
       "NOUN  0.176275  0.013310  0.147978  0.016884  0.239179  0.012289  0.043832   \n",
       "PRON  0.022918  0.009549  0.480901  0.033995  0.041253  0.074866  0.012223   \n",
       "CONJ  0.054435  0.121539  0.153918  0.055842  0.034256  0.116847  0.004693   \n",
       "X     0.142925  0.055131  0.203633  0.025175  0.163799  0.016571  0.185787   \n",
       "NUM   0.034790  0.003271  0.017544  0.002974  0.118347  0.034196  0.027951   \n",
       "\n",
       "          NOUN      PRON      CONJ         X       NUM  \n",
       "ADP   0.321776  0.069128  0.000856  0.034029  0.062921  \n",
       "DET   0.640029  0.003742  0.000483  0.045509  0.021970  \n",
       "VERB  0.110904  0.036244  0.005588  0.218005  0.022817  \n",
       "ADV   0.030897  0.015615  0.006312  0.023588  0.030565  \n",
       ".     0.223152  0.065389  0.057924  0.026623  0.080500  \n",
       "ADJ   0.696725  0.000658  0.016949  0.021392  0.020405  \n",
       "PRT   0.242563  0.018960  0.002288  0.013403  0.058516  \n",
       "NOUN  0.264632  0.004923  0.041936  0.029136  0.009627  \n",
       "PRON  0.211230  0.008021  0.004966  0.092819  0.007257  \n",
       "CONJ  0.349132  0.058658  0.000469  0.007977  0.042234  \n",
       "X     0.061345  0.056087  0.010357  0.076482  0.002709  \n",
       "NUM   0.355338  0.001487  0.013381  0.206661  0.184062  "
      ]
     },
     "execution_count": 19,
     "metadata": {},
     "output_type": "execute_result"
    }
   ],
   "source": [
    "# convert the matrix to a df for better readability\n",
    "tags_df = pd.DataFrame(tags_matrix, columns = list(train_pos_tag_set), index=list(train_pos_tag_set))\n",
    "\n",
    "# display dataset\n",
    "tags_df"
   ]
  },
  {
   "cell_type": "code",
   "execution_count": 20,
   "metadata": {},
   "outputs": [
    {
     "data": {
      "image/png": "[encoded data removed]",
      "text/plain": [
       "<Figure size 1008x576 with 2 Axes>"
      ]
     },
     "metadata": {
      "needs_background": "light"
     },
     "output_type": "display_data"
    }
   ],
   "source": [
    "# heatmap of tags matrix\n",
    "# T(i, j) means P(tag j given tag i)\n",
    "plt.figure(figsize=(14, 8))\n",
    "sns.heatmap(tags_df, annot = True)\n",
    "plt.show()"
   ]
  },
  {
   "cell_type": "markdown",
   "metadata": {},
   "source": [
    "From heqtmap we can see most tags are noun and verb. we also see a significant amount of X."
   ]
  },
  {
   "cell_type": "code",
   "execution_count": 21,
   "metadata": {
    "scrolled": false
   },
   "outputs": [
    {
     "data": {
      "image/png": "[encoded data removed]",
      "text/plain": [
       "<Figure size 1008x576 with 2 Axes>"
      ]
     },
     "metadata": {
      "needs_background": "light"
     },
     "output_type": "display_data"
    }
   ],
   "source": [
    "# frequent tags\n",
    "# filter the df to get P(t2, t1) > 0.5\n",
    "tags_frequent = tags_df[tags_df>0.5]\n",
    "plt.figure(figsize=(14, 8))\n",
    "sns.heatmap(tags_frequent, annot = True)\n",
    "plt.show()"
   ]
  },
  {
   "cell_type": "markdown",
   "metadata": {},
   "source": [
    "We see the most common tag is Noun preceeded by Determinant and preceededby adjective."
   ]
  },
  {
   "cell_type": "code",
   "execution_count": 22,
   "metadata": {},
   "outputs": [
    {
     "data": {
      "text/plain": [
       "95589"
      ]
     },
     "execution_count": 22,
     "metadata": {},
     "output_type": "execute_result"
    }
   ],
   "source": [
    "len(train_tagged_words)"
   ]
  },
  {
   "cell_type": "code",
   "execution_count": 23,
   "metadata": {},
   "outputs": [],
   "source": [
    "# Viterbi Heuristic\n",
    "def Vanilla_Viterbi(words, train_bag = train_tagged_words):\n",
    "    state = []\n",
    "    T = list(set([pair[1] for pair in train_bag]))\n",
    "    \n",
    "    for key, word in enumerate(words):\n",
    "        #initialise list of probability column for a given observation\n",
    "        p = [] \n",
    "        for tag in T:\n",
    "            if key == 0:\n",
    "                transition_p = tags_df.loc['.', tag]\n",
    "            else:\n",
    "                transition_p = tags_df.loc[state[-1], tag]\n",
    "                \n",
    "            # compute emission and state probabilities\n",
    "            emission_p = word_given_tag(words[key], tag)[0]/word_given_tag(words[key], tag)[1]\n",
    "            state_probability = emission_p * transition_p    \n",
    "            p.append(state_probability)\n",
    "            \n",
    "        pmax = max(p)\n",
    "        # getting state for which probability is maximum\n",
    "        state_max = T[p.index(pmax)] \n",
    "        state.append(state_max)\n",
    "    return list(zip(words, state))"
   ]
  },
  {
   "cell_type": "code",
   "execution_count": 24,
   "metadata": {},
   "outputs": [
    {
     "data": {
      "text/plain": [
       "[[('Shearson', 'NOUN'),\n",
       "  ('``', '.'),\n",
       "  ('really', 'ADV'),\n",
       "  ('only', 'ADV'),\n",
       "  ('has', 'VERB'),\n",
       "  ('$', '.'),\n",
       "  ('300', 'NUM'),\n",
       "  ('million', 'NUM'),\n",
       "  ('*U*', 'X'),\n",
       "  ('of', 'ADP'),\n",
       "  ('capital', 'NOUN'),\n",
       "  (',', '.'),\n",
       "  (\"''\", '.'),\n",
       "  ('says', 'VERB'),\n",
       "  ('*T*-1', 'X'),\n",
       "  ('Mr.', 'NOUN'),\n",
       "  ('Bowman', 'NOUN'),\n",
       "  ('of', 'ADP'),\n",
       "  ('S&P', 'NOUN'),\n",
       "  ('.', '.')],\n",
       " [('ShareData', 'NOUN'),\n",
       "  ('develops', 'VERB'),\n",
       "  ('and', 'CONJ'),\n",
       "  ('markets', 'VERB'),\n",
       "  ('low-cost', 'ADJ'),\n",
       "  ('software', 'NOUN'),\n",
       "  (',', '.'),\n",
       "  ('peripheral', 'ADJ'),\n",
       "  ('equipment', 'NOUN'),\n",
       "  ('and', 'CONJ'),\n",
       "  ('accessories', 'NOUN'),\n",
       "  ('for', 'ADP'),\n",
       "  ('computers', 'NOUN'),\n",
       "  ('.', '.')],\n",
       " [('Moscow', 'NOUN'),\n",
       "  ('has', 'VERB'),\n",
       "  ('settled', 'VERB'),\n",
       "  ('pre-1917', 'ADJ'),\n",
       "  ('debts', 'NOUN'),\n",
       "  ('with', 'ADP'),\n",
       "  ('other', 'ADJ'),\n",
       "  ('countries', 'NOUN'),\n",
       "  ('in', 'ADP'),\n",
       "  ('recent', 'ADJ'),\n",
       "  ('years', 'NOUN'),\n",
       "  ('at', 'ADP'),\n",
       "  ('less', 'ADJ'),\n",
       "  ('than', 'ADP'),\n",
       "  ('face', 'NOUN'),\n",
       "  ('value', 'NOUN'),\n",
       "  ('.', '.')],\n",
       " [('When', 'ADV'),\n",
       "  ('test', 'NOUN'),\n",
       "  ('booklets', 'NOUN'),\n",
       "  ('were', 'VERB'),\n",
       "  ('passed', 'VERB'),\n",
       "  ('*-1', 'X'),\n",
       "  ('out', 'ADV'),\n",
       "  ('48', 'NUM'),\n",
       "  ('hours', 'NOUN'),\n",
       "  ('ahead', 'ADV'),\n",
       "  ('of', 'ADP'),\n",
       "  ('time', 'NOUN'),\n",
       "  ('*T*-2', 'X'),\n",
       "  (',', '.'),\n",
       "  ('she', 'PRON'),\n",
       "  ('says', 'VERB'),\n",
       "  ('0', 'X'),\n",
       "  ('she', 'PRON'),\n",
       "  ('copied', 'VERB'),\n",
       "  ('questions', 'NOUN'),\n",
       "  ('in', 'ADP'),\n",
       "  ('the', 'DET'),\n",
       "  ('social', 'ADJ'),\n",
       "  ('studies', 'NOUN'),\n",
       "  ('section', 'NOUN'),\n",
       "  ('and', 'CONJ'),\n",
       "  ('gave', 'VERB'),\n",
       "  ('the', 'DET'),\n",
       "  ('answers', 'NOUN'),\n",
       "  ('to', 'PRT'),\n",
       "  ('students', 'NOUN'),\n",
       "  ('.', '.')],\n",
       " [('The', 'DET'),\n",
       "  ('Life', 'NOUN'),\n",
       "  ('Insurance', 'NOUN'),\n",
       "  ('Co.', 'NOUN'),\n",
       "  ('of', 'ADP'),\n",
       "  ('Georgia', 'NOUN'),\n",
       "  ('has', 'VERB'),\n",
       "  ('officially', 'ADV'),\n",
       "  ('opened', 'VERB'),\n",
       "  ('an', 'DET'),\n",
       "  ('office', 'NOUN'),\n",
       "  ('in', 'ADP'),\n",
       "  ('Taipei', 'NOUN'),\n",
       "  ('.', '.')],\n",
       " [('Big', 'NOUN'),\n",
       "  ('Board', 'NOUN'),\n",
       "  ('volume', 'NOUN'),\n",
       "  ('totaled', 'VERB'),\n",
       "  ('154.2', 'NUM'),\n",
       "  ('million', 'NUM'),\n",
       "  ('shares', 'NOUN'),\n",
       "  ('.', '.')],\n",
       " [('All', 'DET'),\n",
       "  ('of', 'ADP'),\n",
       "  ('this', 'DET'),\n",
       "  ('must', 'VERB'),\n",
       "  ('have', 'VERB'),\n",
       "  ('been', 'VERB'),\n",
       "  ('enormously', 'ADV'),\n",
       "  ('frustrating', 'VERB'),\n",
       "  ('to', 'PRT'),\n",
       "  ('Mr.', 'NOUN'),\n",
       "  ('Katzenstein', 'NOUN'),\n",
       "  (',', '.'),\n",
       "  ('who', 'PRON'),\n",
       "  ('*T*-59', 'X'),\n",
       "  ('went', 'VERB'),\n",
       "  ('to', 'PRT'),\n",
       "  ('Sony', 'NOUN'),\n",
       "  ('with', 'ADP'),\n",
       "  ('degrees', 'NOUN'),\n",
       "  ('in', 'ADP'),\n",
       "  ('business', 'NOUN'),\n",
       "  ('and', 'CONJ'),\n",
       "  ('computer', 'NOUN'),\n",
       "  ('science', 'NOUN'),\n",
       "  ('and', 'CONJ'),\n",
       "  ('was', 'VERB'),\n",
       "  ('raring', 'ADJ'),\n",
       "  ('*-1', 'X'),\n",
       "  ('to', 'PRT'),\n",
       "  ('invent', 'VERB'),\n",
       "  ('another', 'DET'),\n",
       "  ('Walkman', 'NOUN'),\n",
       "  ('.', '.')],\n",
       " [('USX', 'NOUN'),\n",
       "  ('announced', 'VERB'),\n",
       "  ('in', 'ADP'),\n",
       "  ('October', 'NOUN'),\n",
       "  ('that', 'ADP'),\n",
       "  ('it', 'PRON'),\n",
       "  ('was', 'VERB'),\n",
       "  ('soliciting', 'VERB'),\n",
       "  ('bids', 'NOUN'),\n",
       "  ('*', 'X'),\n",
       "  ('to', 'PRT'),\n",
       "  ('sell', 'VERB'),\n",
       "  ('TXO', 'NOUN'),\n",
       "  (\"'s\", 'PRT'),\n",
       "  ('oil', 'NOUN'),\n",
       "  ('and', 'CONJ'),\n",
       "  ('gas', 'NOUN'),\n",
       "  ('reserves', 'NOUN'),\n",
       "  ('.', '.')],\n",
       " [('That', 'DET'),\n",
       "  ('followed', 'VERB'),\n",
       "  ('four', 'NUM'),\n",
       "  ('straight', 'ADJ'),\n",
       "  ('months', 'NOUN'),\n",
       "  ('in', 'ADP'),\n",
       "  ('which', 'DET'),\n",
       "  ('the', 'DET'),\n",
       "  ('number', 'NOUN'),\n",
       "  ('of', 'ADP'),\n",
       "  ('increases', 'NOUN'),\n",
       "  ('trailed', 'VERB'),\n",
       "  ('the', 'DET'),\n",
       "  ('year-earlier', 'ADJ'),\n",
       "  ('pace', 'NOUN'),\n",
       "  ('*T*-1', 'X'),\n",
       "  ('.', '.')],\n",
       " [('Imports', 'NOUN'),\n",
       "  ('of', 'ADP'),\n",
       "  ('manmade-fiber', 'ADJ'),\n",
       "  ('sweaters', 'NOUN'),\n",
       "  ('in', 'ADP'),\n",
       "  ('1988', 'NUM'),\n",
       "  ('totaled', 'VERB'),\n",
       "  ('about', 'ADP'),\n",
       "  ('$', '.'),\n",
       "  ('405', 'NUM'),\n",
       "  ('million', 'NUM'),\n",
       "  ('*U*', 'X'),\n",
       "  ('from', 'ADP'),\n",
       "  ('Taiwan', 'NOUN'),\n",
       "  (',', '.'),\n",
       "  ('$', '.'),\n",
       "  ('400', 'NUM'),\n",
       "  ('million', 'NUM'),\n",
       "  ('*U*', 'X'),\n",
       "  ('from', 'ADP'),\n",
       "  ('South', 'NOUN'),\n",
       "  ('Korea', 'NOUN'),\n",
       "  ('and', 'CONJ'),\n",
       "  ('$', '.'),\n",
       "  ('125', 'NUM'),\n",
       "  ('million', 'NUM'),\n",
       "  ('*U*', 'X'),\n",
       "  ('from', 'ADP'),\n",
       "  ('Hong', 'NOUN'),\n",
       "  ('Kong', 'NOUN'),\n",
       "  (',', '.'),\n",
       "  ('according', 'VERB'),\n",
       "  ('to', 'PRT'),\n",
       "  ('the', 'DET'),\n",
       "  ('ITC', 'NOUN'),\n",
       "  ('.', '.')]]"
      ]
     },
     "execution_count": 24,
     "metadata": {},
     "output_type": "execute_result"
    }
   ],
   "source": [
    "# Running on entire test dataset would take more than 3-4hrs. \n",
    "# Let's test our Viterbi algorithm on a few sample sentences of test dataset\n",
    "random.seed(1234)\n",
    "\n",
    "# choose random 5 sents\n",
    "rndom = [random.randint(1,len(test_set)) for x in range(10)]\n",
    "\n",
    "# list of sents\n",
    "test_run = [test_set[i] for i in rndom]\n",
    "\n",
    "# list of tagged words\n",
    "test_run_base = [tup for sent in test_run for tup in sent]\n",
    "\n",
    "# list of untagged words\n",
    "test_tagged_words = [tup[0] for sent in test_run for tup in sent]\n",
    "test_run"
   ]
  },
  {
   "cell_type": "code",
   "execution_count": 25,
   "metadata": {},
   "outputs": [
    {
     "name": "stdout",
     "output_type": "stream",
     "text": [
      "Time taken in seconds:  100.46312880516052\n",
      "[('Shearson', 'NOUN'), ('``', '.'), ('really', 'ADV'), ('only', 'ADV'), ('has', 'VERB'), ('$', '.'), ('300', 'NUM'), ('million', 'NUM'), ('*U*', 'X'), ('of', 'ADP'), ('capital', 'NOUN'), (',', '.'), (\"''\", '.'), ('says', 'VERB'), ('*T*-1', 'X'), ('Mr.', 'NOUN'), ('Bowman', 'NOUN'), ('of', 'ADP'), ('S&P', 'NOUN'), ('.', '.'), ('ShareData', 'NOUN'), ('develops', 'ADP'), ('and', 'CONJ'), ('markets', 'NOUN'), ('low-cost', 'ADP'), ('software', 'NOUN'), (',', '.'), ('peripheral', 'ADJ'), ('equipment', 'NOUN'), ('and', 'CONJ'), ('accessories', 'NOUN'), ('for', 'ADP'), ('computers', 'NOUN'), ('.', '.'), ('Moscow', 'NOUN'), ('has', 'VERB'), ('settled', 'VERB'), ('pre-1917', 'ADP'), ('debts', 'NOUN'), ('with', 'ADP'), ('other', 'ADJ'), ('countries', 'NOUN'), ('in', 'ADP'), ('recent', 'ADJ'), ('years', 'NOUN'), ('at', 'ADP'), ('less', 'ADJ'), ('than', 'ADP'), ('face', 'NOUN'), ('value', 'NOUN'), ('.', '.'), ('When', 'ADV'), ('test', 'VERB'), ('booklets', 'NOUN'), ('were', 'VERB'), ('passed', 'VERB'), ('*-1', 'X'), ('out', 'PRT'), ('48', 'NUM'), ('hours', 'NOUN'), ('ahead', 'ADV'), ('of', 'ADP'), ('time', 'NOUN'), ('*T*-2', 'X'), (',', '.'), ('she', 'PRON'), ('says', 'VERB'), ('0', 'X'), ('she', 'PRON'), ('copied', 'ADP'), ('questions', 'NOUN'), ('in', 'ADP'), ('the', 'DET'), ('social', 'ADJ'), ('studies', 'NOUN'), ('section', 'NOUN'), ('and', 'CONJ'), ('gave', 'VERB'), ('the', 'DET'), ('answers', 'NOUN'), ('to', 'PRT'), ('students', 'NOUN'), ('.', '.'), ('The', 'DET'), ('Life', 'NOUN'), ('Insurance', 'NOUN'), ('Co.', 'NOUN'), ('of', 'ADP'), ('Georgia', 'NOUN'), ('has', 'VERB'), ('officially', 'ADV'), ('opened', 'VERB'), ('an', 'DET'), ('office', 'NOUN'), ('in', 'ADP'), ('Taipei', 'NOUN'), ('.', '.'), ('Big', 'NOUN'), ('Board', 'NOUN'), ('volume', 'NOUN'), ('totaled', 'VERB'), ('154.2', 'ADP'), ('million', 'NUM'), ('shares', 'NOUN'), ('.', '.'), ('All', 'DET'), ('of', 'ADP'), ('this', 'DET'), ('must', 'VERB'), ('have', 'VERB'), ('been', 'VERB'), ('enormously', 'ADP'), ('frustrating', 'ADP'), ('to', 'PRT'), ('Mr.', 'NOUN'), ('Katzenstein', 'NOUN'), (',', '.'), ('who', 'PRON'), ('*T*-59', 'X'), ('went', 'VERB'), ('to', 'PRT'), ('Sony', 'NOUN'), ('with', 'ADP'), ('degrees', 'NOUN'), ('in', 'ADP'), ('business', 'NOUN'), ('and', 'CONJ'), ('computer', 'NOUN'), ('science', 'ADP'), ('and', 'CONJ'), ('was', 'VERB'), ('raring', 'ADP'), ('*-1', 'X'), ('to', 'PRT'), ('invent', 'ADP'), ('another', 'DET'), ('Walkman', 'ADP'), ('.', '.'), ('USX', 'NOUN'), ('announced', 'VERB'), ('in', 'ADP'), ('October', 'NOUN'), ('that', 'ADP'), ('it', 'PRON'), ('was', 'VERB'), ('soliciting', 'ADP'), ('bids', 'NOUN'), ('*', 'X'), ('to', 'PRT'), ('sell', 'VERB'), ('TXO', 'ADP'), (\"'s\", 'PRT'), ('oil', 'NOUN'), ('and', 'CONJ'), ('gas', 'NOUN'), ('reserves', 'NOUN'), ('.', '.'), ('That', 'DET'), ('followed', 'VERB'), ('four', 'NUM'), ('straight', 'ADJ'), ('months', 'NOUN'), ('in', 'ADP'), ('which', 'DET'), ('the', 'DET'), ('number', 'NOUN'), ('of', 'ADP'), ('increases', 'NOUN'), ('trailed', 'VERB'), ('the', 'DET'), ('year-earlier', 'ADJ'), ('pace', 'NOUN'), ('*T*-1', 'X'), ('.', '.'), ('Imports', 'NOUN'), ('of', 'ADP'), ('manmade-fiber', 'ADP'), ('sweaters', 'NOUN'), ('in', 'ADP'), ('1988', 'NUM'), ('totaled', 'VERB'), ('about', 'ADP'), ('$', '.'), ('405', 'ADP'), ('million', 'NUM'), ('*U*', 'X'), ('from', 'ADP'), ('Taiwan', 'NOUN'), (',', '.'), ('$', '.'), ('400', 'NUM'), ('million', 'NUM'), ('*U*', 'X'), ('from', 'ADP'), ('South', 'NOUN'), ('Korea', 'NOUN'), ('and', 'CONJ'), ('$', '.'), ('125', 'NUM'), ('million', 'NUM'), ('*U*', 'X'), ('from', 'ADP'), ('Hong', 'NOUN'), ('Kong', 'NOUN'), (',', '.'), ('according', 'VERB'), ('to', 'PRT'), ('the', 'DET'), ('ITC', 'NOUN'), ('.', '.')]\n"
     ]
    }
   ],
   "source": [
    "# tagging the test sentences\n",
    "start = time.time()\n",
    "tagged_seq = Vanilla_Viterbi(test_tagged_words)\n",
    "end = time.time()\n",
    "difference = end-start\n",
    "print(\"Time taken in seconds: \", difference)\n",
    "print(tagged_seq)"
   ]
  },
  {
   "cell_type": "code",
   "execution_count": 26,
   "metadata": {},
   "outputs": [
    {
     "name": "stdout",
     "output_type": "stream",
     "text": [
      "The accuracy of the Vanilla Viterbi Algorithm is - 0.9142857142857143\n"
     ]
    }
   ],
   "source": [
    "#calculate accuracy\n",
    "check = [i for i, j in zip(tagged_seq, test_run_base) if i == j]\n",
    "\n",
    "vanilla_viterbi_accuracy = len(check)/len(tagged_seq)\n",
    "\n",
    "print(\"The accuracy of the Vanilla Viterbi Algorithm is -\", vanilla_viterbi_accuracy)"
   ]
  },
  {
   "cell_type": "code",
   "execution_count": 27,
   "metadata": {},
   "outputs": [
    {
     "name": "stdout",
     "output_type": "stream",
     "text": [
      "18\n"
     ]
    },
    {
     "data": {
      "text/plain": [
       "[[('ShareData', 'NOUN'), (('develops', 'ADP'), ('develops', 'VERB'))],\n",
       " [('and', 'CONJ'), (('markets', 'NOUN'), ('markets', 'VERB'))],\n",
       " [('markets', 'VERB'), (('low-cost', 'ADP'), ('low-cost', 'ADJ'))],\n",
       " [('settled', 'VERB'), (('pre-1917', 'ADP'), ('pre-1917', 'ADJ'))],\n",
       " [('When', 'ADV'), (('test', 'VERB'), ('test', 'NOUN'))],\n",
       " [('*-1', 'X'), (('out', 'PRT'), ('out', 'ADV'))],\n",
       " [('she', 'PRON'), (('copied', 'ADP'), ('copied', 'VERB'))],\n",
       " [('totaled', 'VERB'), (('154.2', 'ADP'), ('154.2', 'NUM'))],\n",
       " [('been', 'VERB'), (('enormously', 'ADP'), ('enormously', 'ADV'))],\n",
       " [('enormously', 'ADV'), (('frustrating', 'ADP'), ('frustrating', 'VERB'))],\n",
       " [('computer', 'NOUN'), (('science', 'ADP'), ('science', 'NOUN'))],\n",
       " [('was', 'VERB'), (('raring', 'ADP'), ('raring', 'ADJ'))],\n",
       " [('to', 'PRT'), (('invent', 'ADP'), ('invent', 'VERB'))],\n",
       " [('another', 'DET'), (('Walkman', 'ADP'), ('Walkman', 'NOUN'))],\n",
       " [('was', 'VERB'), (('soliciting', 'ADP'), ('soliciting', 'VERB'))],\n",
       " [('sell', 'VERB'), (('TXO', 'ADP'), ('TXO', 'NOUN'))],\n",
       " [('of', 'ADP'), (('manmade-fiber', 'ADP'), ('manmade-fiber', 'ADJ'))],\n",
       " [('$', '.'), (('405', 'ADP'), ('405', 'NUM'))]]"
      ]
     },
     "execution_count": 27,
     "metadata": {},
     "output_type": "execute_result"
    }
   ],
   "source": [
    "incorrect_tagged_cases = [[test_run_base[i-1],j] for i, j in enumerate(zip(tagged_seq, test_run_base)) if j[0]!=j[1]]\n",
    "print(len(incorrect_tagged_cases))\n",
    "incorrect_tagged_cases"
   ]
  },
  {
   "cell_type": "code",
   "execution_count": 28,
   "metadata": {},
   "outputs": [
    {
     "name": "stdout",
     "output_type": "stream",
     "text": [
      "Total Unknown words : 15\n",
      "\n",
      "\n",
      "Unknown Words : ['pre-1917', 'Walkman', '154.2', 'science', 'enormously', 'frustrating', 'manmade-fiber', 'soliciting', 'raring', 'invent', 'TXO', 'low-cost', '405', 'copied', 'develops']\n"
     ]
    }
   ],
   "source": [
    "#Checking unknowns\n",
    "test_vocabulary_set = set([t for t in test_tagged_words])\n",
    "\n",
    "unknown_words = list(test_vocabulary_set - train_voc_set)\n",
    "print(\"Total Unknown words :\", len(unknown_words))\n",
    "print(\"\\n\")\n",
    "print(\"Unknown Words :\", unknown_words)"
   ]
  },
  {
   "cell_type": "markdown",
   "metadata": {},
   "source": [
    "we see the words mostly to be hyphened words,numbers , some of them are verb,adverb. These can be tagged correctly by adding rule based tagging. "
   ]
  },
  {
   "cell_type": "markdown",
   "metadata": {},
   "source": [
    "### Solve the problem of unknown words"
   ]
  },
  {
   "cell_type": "markdown",
   "metadata": {},
   "source": [
    "### Approach 1 : Using Lexicon and rule based tagger"
   ]
  },
  {
   "cell_type": "markdown",
   "metadata": {},
   "source": [
    "1. Unigram tagger"
   ]
  },
  {
   "cell_type": "code",
   "execution_count": 29,
   "metadata": {},
   "outputs": [
    {
     "name": "stdout",
     "output_type": "stream",
     "text": [
      "The accuracy of the Unigram Tagger is - 0.911735797129939\n"
     ]
    }
   ],
   "source": [
    "#Evaluating using unigram tagger\n",
    "\n",
    "unigram_tagger = nltk.UnigramTagger(train_set)\n",
    "accuracy_unigram_tagger = unigram_tagger.evaluate(test_set)\n",
    "print(\"The accuracy of the Unigram Tagger is -\", accuracy_unigram_tagger)"
   ]
  },
  {
   "cell_type": "markdown",
   "metadata": {},
   "source": [
    "2. Rule based regex tagger"
   ]
  },
  {
   "cell_type": "code",
   "execution_count": 30,
   "metadata": {},
   "outputs": [],
   "source": [
    "# patterns for tagging using a rule based regex tagger -\n",
    "\n",
    "patterns = [\n",
    "    (r'^[aA-zZ].*[0-9]+','NOUN'),  # Alpha Numeric\n",
    "    (r'.*ness$', 'NOUN'),\n",
    "    (r'.*\\'s$', 'NOUN'),              # possessive nouns\n",
    "    (r'.*s$', 'NOUN'),                # plural nouns\n",
    "    (r'.*', 'NOUN'),    \n",
    "    (r'.*ly$', 'ADV'),\n",
    "    (r'^(0|([*|-|$].*))','X'), # Any special character combination\n",
    "    (r'.*ould$', 'X'), # modals\n",
    "    (r'(The|the|A|a|An|an)$', 'DET'),\n",
    "    (r'^([0-9]|[aA-zZ])+\\-[aA-zZ]*$','ADJ'),\n",
    "    (r'.*able$', 'ADJ'),\n",
    "    (r'[aA-zZ]+(ed|ing|es)$', 'VERB'), # Any word ending with 'ing' or 'ed' is a verb\n",
    "    (r'[0-9].?[,\\/]?[0-9]*','NUM')# Numbers \n",
    "    ]"
   ]
  },
  {
   "cell_type": "code",
   "execution_count": 31,
   "metadata": {},
   "outputs": [
    {
     "name": "stdout",
     "output_type": "stream",
     "text": [
      "The accuracy of the Unigram Tagger backed up by the RegexpTagger is - 0.9378808728130529\n"
     ]
    }
   ],
   "source": [
    "#building the tagger\n",
    "rule_based_tagger = nltk.RegexpTagger(patterns)\n",
    "\n",
    "# unigram tagger backed up by the rule-based tagger\n",
    "rule_based_unigram_tagger = nltk.UnigramTagger(train_set, backoff = rule_based_tagger)\n",
    "\n",
    "accuracy_rule_based_unigram_tagger = rule_based_unigram_tagger.evaluate(test_set)\n",
    "\n",
    "print(\"The accuracy of the Unigram Tagger backed up by the RegexpTagger is -\", accuracy_rule_based_unigram_tagger)"
   ]
  },
  {
   "cell_type": "markdown",
   "metadata": {},
   "source": [
    "3.Bigram tagger"
   ]
  },
  {
   "cell_type": "code",
   "execution_count": 32,
   "metadata": {},
   "outputs": [
    {
     "name": "stdout",
     "output_type": "stream",
     "text": [
      "0.9412227245920975\n"
     ]
    }
   ],
   "source": [
    "#bigram tagger\n",
    "bigram_tagger = nltk.BigramTagger(train_set, backoff=rule_based_unigram_tagger)\n",
    "bigram_tagger.evaluate(test_set)\n",
    "accuracy_bigram_tagger = bigram_tagger.evaluate(test_set)\n",
    "print(accuracy_bigram_tagger)"
   ]
  },
  {
   "cell_type": "markdown",
   "metadata": {},
   "source": [
    "4. Trigram tagger"
   ]
  },
  {
   "cell_type": "code",
   "execution_count": 33,
   "metadata": {},
   "outputs": [
    {
     "name": "stdout",
     "output_type": "stream",
     "text": [
      "The accuracy of the Trigram Tagger backed up by the bigram_tagger is - 0.9404364065264399\n"
     ]
    }
   ],
   "source": [
    "#trigram tagger\n",
    "trigram_tagger = nltk.TrigramTagger(train_set, backoff = bigram_tagger)\n",
    "trigram_tagger.evaluate(test_set)\n",
    "accuracy_trigram_tagger = trigram_tagger.evaluate(test_set)\n",
    "print(\"The accuracy of the Trigram Tagger backed up by the bigram_tagger is -\", accuracy_trigram_tagger)"
   ]
  },
  {
   "cell_type": "markdown",
   "metadata": {},
   "source": [
    "### Approach 2 : Modifying Viterbi for unknown words"
   ]
  },
  {
   "cell_type": "markdown",
   "metadata": {},
   "source": [
    "For unknown words , let us consider transistion probablity as emission probability would be zero. "
   ]
  },
  {
   "cell_type": "code",
   "execution_count": 34,
   "metadata": {},
   "outputs": [],
   "source": [
    "def Vanilla_Viterbi_for_Unknown_Words(words, train_bag = train_tagged_words):\n",
    "    state = []\n",
    "    T = list(set([pair[1] for pair in train_bag]))\n",
    "    \n",
    "    for key, word in enumerate(words):\n",
    "        #initialise list of probability column for a given observation\n",
    "        p = [] \n",
    "        p_transition =[] # list for storing transition probabilities\n",
    "        for tag in T:\n",
    "            if key == 0:\n",
    "                transition_p = tags_df.loc['.', tag]\n",
    "            else:\n",
    "                transition_p = tags_df.loc[state[-1], tag]\n",
    "                \n",
    "            # compute emission and state probabilities\n",
    "            emission_p = word_given_tag(words[key], tag)[0]/word_given_tag(words[key], tag)[1]\n",
    "            state_probability = emission_p * transition_p    \n",
    "            p.append(state_probability)\n",
    "            p_transition.append(transition_p)\n",
    "            \n",
    "        pmax = max(p)\n",
    "        state_max = T[p.index(pmax)] \n",
    "        \n",
    "      \n",
    "        # if probability is zero (unknown word) then use transition probability\n",
    "        if(pmax==0):\n",
    "            pmax = max(p_transition)\n",
    "            state_max = T[p_transition.index(pmax)]\n",
    "                           \n",
    "        else:\n",
    "            state_max = T[p.index(pmax)] \n",
    "        \n",
    "        state.append(state_max)\n",
    "    return list(zip(words, state))"
   ]
  },
  {
   "cell_type": "code",
   "execution_count": 35,
   "metadata": {},
   "outputs": [
    {
     "name": "stdout",
     "output_type": "stream",
     "text": [
      "Time taken in seconds:  74.61628532409668\n",
      "Vanilla Viterbi for Unknown Words Accuracy:  93.80952380952381\n"
     ]
    }
   ],
   "source": [
    "# tagging the test sentences\n",
    "start = time.time()\n",
    "tagged_seq = Vanilla_Viterbi_for_Unknown_Words(test_tagged_words)\n",
    "end = time.time()\n",
    "difference = end-start\n",
    "\n",
    "print(\"Time taken in seconds: \", difference)\n",
    "\n",
    "# accuracy\n",
    "check = [i for i, j in zip(tagged_seq, test_run_base) if i == j] \n",
    "accuracy = len(check)/len(tagged_seq)\n",
    "print('Vanilla Viterbi for Unknown Words Accuracy: ',accuracy*100)"
   ]
  },
  {
   "cell_type": "markdown",
   "metadata": {},
   "source": [
    "### Approach 3: Adding tag occurence probabilty weights to transition probability for predicting unknown words"
   ]
  },
  {
   "cell_type": "markdown",
   "metadata": {},
   "source": [
    "We assign tags based on the most frequently occuring tag for those words."
   ]
  },
  {
   "cell_type": "code",
   "execution_count": 36,
   "metadata": {},
   "outputs": [
    {
     "data": {
      "text/plain": [
       "[('ADP', 0.09776229482471832),\n",
       " ('DET', 0.08666269131385411),\n",
       " ('VERB', 0.1347958447101654),\n",
       " ('ADV', 0.03148897885739991),\n",
       " ('.', 0.11631045413175156),\n",
       " ('ADJ', 0.06357426063668414),\n",
       " ('PRT', 0.032001590141125025),\n",
       " ('NOUN', 0.286884474154976),\n",
       " ('PRON', 0.02738808858759899),\n",
       " ('CONJ', 0.022293360114657546),\n",
       " ('X', 0.0656560901358943),\n",
       " ('NUM', 0.035181872391174714)]"
      ]
     },
     "execution_count": 36,
     "metadata": {},
     "output_type": "execute_result"
    }
   ],
   "source": [
    "#tag occurence probability, based on training data\n",
    "tag_prob = []\n",
    "total_tag = len([tag for word,tag in train_tagged_words])\n",
    "for t in train_pos_tag_set:\n",
    "    each_tag = [tag for word,tag in train_tagged_words if tag==t]\n",
    "    tag_prob.append((t,len(each_tag)/total_tag))\n",
    "\n",
    "tag_prob"
   ]
  },
  {
   "cell_type": "code",
   "execution_count": 37,
   "metadata": {},
   "outputs": [],
   "source": [
    "def Vanilla_Viterbi_for_Unknown_Words_Modified(words, train_bag = train_tagged_words):\n",
    "    state = []\n",
    "    T = list(set([pair[1] for pair in train_bag]))\n",
    "    \n",
    "    for key, word in enumerate(words):\n",
    "        #initialise list of probability column for a given observation\n",
    "        p = [] \n",
    "        p_transition =[] # list for storing transition probabilities\n",
    "       \n",
    "        for tag in T:\n",
    "            if key == 0:\n",
    "                transition_p = tags_df.loc['.', tag]\n",
    "            else:\n",
    "                transition_p = tags_df.loc[state[-1], tag]\n",
    "                \n",
    "            # compute emission and state probabilities\n",
    "            emission_p = word_given_tag(words[key], tag)[0]/word_given_tag(words[key], tag)[1]\n",
    "            state_probability = emission_p * transition_p    \n",
    "            p.append(state_probability)\n",
    "            \n",
    "            # find POS tag occurance probability\n",
    "            tag_p = [pair[1] for pair in tag_prob if pair[0]==tag ]\n",
    "            \n",
    "            # calculate the transition prob weighted by tag occurance probability.\n",
    "            transition_p = tag_p[0]*transition_p             \n",
    "            p_transition.append(transition_p)\n",
    "            \n",
    "        pmax = max(p)\n",
    "        state_max = T[p.index(pmax)] \n",
    "        \n",
    "      \n",
    "        # if probability is zero (unknown word) then use weighted transition probability\n",
    "        if(pmax==0):\n",
    "            pmax = max(p_transition)\n",
    "            state_max = T[p_transition.index(pmax)]                 \n",
    "                           \n",
    "        else:\n",
    "            state_max = T[p.index(pmax)] \n",
    "        \n",
    "        state.append(state_max)\n",
    "    return list(zip(words, state))"
   ]
  },
  {
   "cell_type": "code",
   "execution_count": 38,
   "metadata": {},
   "outputs": [
    {
     "name": "stdout",
     "output_type": "stream",
     "text": [
      "Time taken in seconds:  74.18387532234192\n",
      "Modified Vanilla Viterbi for Unknown Words Accuracy:  93.33333333333333\n"
     ]
    }
   ],
   "source": [
    "# tagging the test sentences\n",
    "start = time.time()\n",
    "tagged_seq = Vanilla_Viterbi_for_Unknown_Words_Modified(test_tagged_words)\n",
    "end = time.time()\n",
    "difference = end-start\n",
    "\n",
    "print(\"Time taken in seconds: \", difference)\n",
    "\n",
    "# accuracy\n",
    "viterbi_word_check = [i for i, j in zip(tagged_seq, test_run_base) if i == j] \n",
    "accuracy_viterbi_modified = len(viterbi_word_check)/len(tagged_seq) * 100\n",
    "print('Modified Vanilla Viterbi for Unknown Words Accuracy: ', accuracy_viterbi_modified)"
   ]
  },
  {
   "cell_type": "markdown",
   "metadata": {},
   "source": [
    "Approach 4: Combining a little bit of all\n",
    "\n",
    "Lets use trigram tagger backed with rule based and implemet to viterbi"
   ]
  },
  {
   "cell_type": "code",
   "execution_count": 39,
   "metadata": {},
   "outputs": [],
   "source": [
    "def trigram_tagger(word, train_set = train_set):\n",
    "    \n",
    "    patterns = [\n",
    "    (r'[aA-zZ]+(ed|ing|es)$', 'VERB'), # Any word ending with 'ing' or 'ed' is a verb\n",
    "\n",
    "    (r'.*ly$', 'ADV'),\n",
    "        \n",
    "    (r'^([0-9]|[aA-zZ])+\\-[aA-zZ]*$','ADJ'),\n",
    "    (r'.*able$', 'ADJ'), \n",
    "    (r'.*ful$', 'ADJ'),\n",
    "    (r'.*ous$', 'ADJ'),\n",
    "        \n",
    "    (r'^[aA-zZ].*[0-9]+','NOUN'),     # Alpha Numeric\n",
    "    (r'.*ness$', 'NOUN'),             # eg.- Laziness,goodness\n",
    "    (r'.*\\'s$', 'NOUN'),              # possessive nouns - words ending with 's\n",
    "    (r'.*s$', 'NOUN'),                # plural nouns\n",
    "    (r'.*ers$', 'NOUN'),              # eg.- photographers, teachers\n",
    "    (r'.*ment$', 'NOUN'),             # eg.- enjoyment\n",
    "    (r'.*town$', 'NOUN'),             # eg.- hometown,downtown\n",
    "        \n",
    "    (r'^(0|([*|-|$].*))','X'), # Any special character combination\n",
    "    (r'.*ould$', 'X'),\n",
    "        \n",
    "    (r'(The|the|A|a|An|an|That|that|This|this|Those|those|These|these)$', 'DET'), # That/this/these/those belong to the category of Demonstrative determiners\n",
    "    (r'[0-9].?[,\\/]?[0-9]*','NUM'), # Numbers \n",
    "        \n",
    "    (r'.*', 'NOUN')\n",
    "    ]\n",
    "\n",
    "    regex_based_tagger = nltk.RegexpTagger(patterns)\n",
    "\n",
    "    # trigram backed up by the regex tagger\n",
    "    trigram_regex_tagger = nltk.TrigramTagger(train_set, backoff = regex_based_tagger)\n",
    "    return trigram_regex_tagger.tag_sents([[(word)]])"
   ]
  },
  {
   "cell_type": "code",
   "execution_count": 40,
   "metadata": {},
   "outputs": [],
   "source": [
    "def Viterbi_Trigram_Tagger(words, train_bag = train_tagged_words):\n",
    "    state = []\n",
    "    T = list(set([pair[1] for pair in train_bag]))\n",
    "    \n",
    "    for key, word in enumerate(words):\n",
    "        # unknown words from trigram taggr\n",
    "        if word not in train_voc_set:\n",
    "            unk_word_tag=trigram_tagger(word)\n",
    "            for sent in unk_word_tag:\n",
    "                for tup in sent:\n",
    "                    state.append(tup[1])\n",
    "        # rest remains same            \n",
    "        else:            \n",
    "            p = [] \n",
    "            for tag in T:\n",
    "                if key == 0:\n",
    "                    transition_p = tags_df.loc['.', tag]\n",
    "                else:\n",
    "                    transition_p = tags_df.loc[state[-1], tag]\n",
    "                \n",
    "            # compute emission and state probabilities\n",
    "                emission_p = word_given_tag(words[key], tag)[0]/word_given_tag(words[key], tag)[1]\n",
    "                state_probability = emission_p * transition_p    \n",
    "                p.append(state_probability)\n",
    "            \n",
    "            pmax = max(p)\n",
    "            # getting state for which probability is maximum\n",
    "            state_max = T[p.index(pmax)] \n",
    "            state.append(state_max)\n",
    "            \n",
    "    return list(zip(words, state))"
   ]
  },
  {
   "cell_type": "markdown",
   "metadata": {},
   "source": [
    "#### Evaluating tagging accuracy"
   ]
  },
  {
   "cell_type": "code",
   "execution_count": 41,
   "metadata": {},
   "outputs": [
    {
     "name": "stdout",
     "output_type": "stream",
     "text": [
      "Time taken in seconds:  125.2410078048706\n",
      "Modified Viterbi Trigram Tagger Accuracy:  96.66666666666667\n"
     ]
    }
   ],
   "source": [
    "# tagging the test sentences\n",
    "start = time.time()\n",
    "tagged_seq = Viterbi_Trigram_Tagger(test_tagged_words)\n",
    "end = time.time()\n",
    "difference = end-start\n",
    "\n",
    "print(\"Time taken in seconds: \", difference)\n",
    "\n",
    "# accuracy\n",
    "viterbi_trigram_word_check = [i for i, j in zip(tagged_seq, test_run_base) if i == j] \n",
    "viterbi_trigram_accuracy = len(viterbi_trigram_word_check)/len(tagged_seq) * 100\n",
    "print('Modified Viterbi Trigram Tagger Accuracy: ', viterbi_trigram_accuracy)"
   ]
  },
  {
   "cell_type": "markdown",
   "metadata": {},
   "source": [
    "### Compare the tagging accuracies of the modifications with the vanilla Viterbi algorithm"
   ]
  },
  {
   "cell_type": "code",
   "execution_count": 42,
   "metadata": {
    "scrolled": true
   },
   "outputs": [
    {
     "data": {
      "text/html": [
       "<div>\n",
       "<style scoped>\n",
       "    .dataframe tbody tr th:only-of-type {\n",
       "        vertical-align: middle;\n",
       "    }\n",
       "\n",
       "    .dataframe tbody tr th {\n",
       "        vertical-align: top;\n",
       "    }\n",
       "\n",
       "    .dataframe thead th {\n",
       "        text-align: right;\n",
       "    }\n",
       "</style>\n",
       "<table border=\"1\" class=\"dataframe\">\n",
       "  <thead>\n",
       "    <tr style=\"text-align: right;\">\n",
       "      <th></th>\n",
       "      <th>Tagging_Accuracy</th>\n",
       "    </tr>\n",
       "    <tr>\n",
       "      <th>Tagging_Algorithm</th>\n",
       "      <th></th>\n",
       "    </tr>\n",
       "  </thead>\n",
       "  <tbody>\n",
       "    <tr>\n",
       "      <th>Vanilla Viterbi</th>\n",
       "      <td>91.428571</td>\n",
       "    </tr>\n",
       "    <tr>\n",
       "      <th>Vanilla Viterbi Modified</th>\n",
       "      <td>93.333333</td>\n",
       "    </tr>\n",
       "    <tr>\n",
       "      <th>Unigram Tagger</th>\n",
       "      <td>91.173580</td>\n",
       "    </tr>\n",
       "    <tr>\n",
       "      <th>Unigram + RegexpTagger</th>\n",
       "      <td>93.788087</td>\n",
       "    </tr>\n",
       "    <tr>\n",
       "      <th>Bigram Tagger + RegexpTagger</th>\n",
       "      <td>94.122272</td>\n",
       "    </tr>\n",
       "    <tr>\n",
       "      <th>Trigram Tagger + Bigram_tagger</th>\n",
       "      <td>94.043641</td>\n",
       "    </tr>\n",
       "    <tr>\n",
       "      <th>Viterbi + Trigram_tagger</th>\n",
       "      <td>96.666667</td>\n",
       "    </tr>\n",
       "  </tbody>\n",
       "</table>\n",
       "</div>"
      ],
      "text/plain": [
       "                                Tagging_Accuracy\n",
       "Tagging_Algorithm                               \n",
       "Vanilla Viterbi                        91.428571\n",
       "Vanilla Viterbi Modified               93.333333\n",
       "Unigram Tagger                         91.173580\n",
       "Unigram + RegexpTagger                 93.788087\n",
       "Bigram Tagger + RegexpTagger           94.122272\n",
       "Trigram Tagger + Bigram_tagger         94.043641\n",
       "Viterbi + Trigram_tagger               96.666667"
      ]
     },
     "execution_count": 42,
     "metadata": {},
     "output_type": "execute_result"
    }
   ],
   "source": [
    "acccuracy_data = [['Vanilla Viterbi', vanilla_viterbi_accuracy * 100], \n",
    "                  ['Vanilla Viterbi Modified', accuracy_viterbi_modified], \n",
    "                  ['Unigram Tagger', accuracy_unigram_tagger * 100],\n",
    "                  ['Unigram + RegexpTagger', accuracy_rule_based_unigram_tagger * 100],\n",
    "                  ['Bigram Tagger + RegexpTagger', accuracy_bigram_tagger*100],\n",
    "                  ['Trigram Tagger + Bigram_tagger', accuracy_trigram_tagger*100],\n",
    "                  ['Viterbi + Trigram_tagger', viterbi_trigram_accuracy]]\n",
    "\n",
    "acccuracy_data_df = pd.DataFrame(acccuracy_data, columns = ['Tagging_Algorithm', 'Tagging_Accuracy'])\n",
    "\n",
    "acccuracy_data_df.set_index('Tagging_Algorithm', drop = True, inplace = True)\n",
    "\n",
    "acccuracy_data_df\n"
   ]
  },
  {
   "cell_type": "markdown",
   "metadata": {},
   "source": [
    "We see Viterbi with Trigram back by rule based to have the highest accuracy of ~97. The second best is the Bigram with Rule based tagger"
   ]
  },
  {
   "cell_type": "markdown",
   "metadata": {},
   "source": [
    "### List down cases which were incorrectly tagged by original POS tagger and got corrected by your modifications"
   ]
  },
  {
   "cell_type": "markdown",
   "metadata": {},
   "source": [
    "Picking random sentences from the test file and comparing the results"
   ]
  },
  {
   "cell_type": "markdown",
   "metadata": {},
   "source": [
    "### Sentence_test_1 = 'Android is a mobile operating system developed by Google.'"
   ]
  },
  {
   "cell_type": "code",
   "execution_count": 43,
   "metadata": {},
   "outputs": [
    {
     "name": "stdout",
     "output_type": "stream",
     "text": [
      "[('Android', 'ADP'), ('is', 'VERB'), ('a', 'DET'), ('mobile', 'ADJ'), ('operating', 'NOUN'), ('system', 'NOUN'), ('developed', 'VERB'), ('by', 'ADP'), ('Google', 'ADP'), ('.', '.')]\n"
     ]
    }
   ],
   "source": [
    "sentence_test_1 = 'Android is a mobile operating system developed by Google.'\n",
    "words = word_tokenize(sentence_test_1)\n",
    "tagged_seq = Vanilla_Viterbi(words)\n",
    "print(tagged_seq)"
   ]
  },
  {
   "cell_type": "code",
   "execution_count": 44,
   "metadata": {},
   "outputs": [
    {
     "name": "stdout",
     "output_type": "stream",
     "text": [
      "[('Android', 'NOUN'), ('is', 'VERB'), ('a', 'DET'), ('mobile', 'ADJ'), ('operating', 'VERB'), ('system', 'NOUN'), ('developed', 'VERB'), ('by', 'ADP'), ('Google', 'NOUN'), ('.', '.')]\n"
     ]
    }
   ],
   "source": [
    "tagged_seq_modified = bigram_tagger.tag(words)\n",
    "print(tagged_seq_modified)"
   ]
  },
  {
   "cell_type": "code",
   "execution_count": 45,
   "metadata": {},
   "outputs": [
    {
     "name": "stdout",
     "output_type": "stream",
     "text": [
      "[('Android', 'NOUN'), ('is', 'VERB'), ('a', 'DET'), ('mobile', 'ADJ'), ('operating', 'NOUN'), ('system', 'NOUN'), ('developed', 'VERB'), ('by', 'ADP'), ('Google', 'NOUN'), ('.', '.')]\n"
     ]
    }
   ],
   "source": [
    "tagged_seq_modified = Viterbi_Trigram_Tagger(words)\n",
    "print(tagged_seq_modified)"
   ]
  },
  {
   "cell_type": "markdown",
   "metadata": {},
   "source": [
    "##### WE see Android and Google to be correctly tagged to Noun by both taggers. Interesting point to note is that operating gets tagged as verb by bigram however viterbi tags it back to noun"
   ]
  },
  {
   "cell_type": "markdown",
   "metadata": {},
   "source": [
    "### Sentence_test_2='The 2018 FIFA World Cup is the 21st FIFA World Cup, an international football tournament contested once every four years'"
   ]
  },
  {
   "cell_type": "code",
   "execution_count": 46,
   "metadata": {},
   "outputs": [
    {
     "name": "stdout",
     "output_type": "stream",
     "text": [
      "[('The', 'DET'), ('2018', 'ADP'), ('FIFA', 'ADP'), ('World', 'NOUN'), ('Cup', 'ADP'), ('is', 'VERB'), ('the', 'DET'), ('21st', 'ADP'), ('FIFA', 'ADP'), ('World', 'NOUN'), ('Cup', 'ADP'), (',', '.'), ('an', 'DET'), ('international', 'ADJ'), ('football', 'NOUN'), ('tournament', 'ADP'), ('contested', 'ADP'), ('once', 'ADV'), ('every', 'DET'), ('four', 'NUM'), ('years', 'NOUN')]\n"
     ]
    }
   ],
   "source": [
    "sentence_test_2='The 2018 FIFA World Cup is the 21st FIFA World Cup, an international football tournament contested once every four years'\n",
    "words = word_tokenize(sentence_test_2)\n",
    "tagged_seq = Vanilla_Viterbi(words)\n",
    "print(tagged_seq)"
   ]
  },
  {
   "cell_type": "code",
   "execution_count": 47,
   "metadata": {},
   "outputs": [
    {
     "name": "stdout",
     "output_type": "stream",
     "text": [
      "[('The', 'DET'), ('2018', 'NOUN'), ('FIFA', 'NOUN'), ('World', 'NOUN'), ('Cup', 'NOUN'), ('is', 'VERB'), ('the', 'DET'), ('21st', 'NOUN'), ('FIFA', 'NOUN'), ('World', 'NOUN'), ('Cup', 'NOUN'), (',', '.'), ('an', 'DET'), ('international', 'ADJ'), ('football', 'NOUN'), ('tournament', 'NOUN'), ('contested', 'NOUN'), ('once', 'ADV'), ('every', 'DET'), ('four', 'NUM'), ('years', 'NOUN')]\n"
     ]
    }
   ],
   "source": [
    "tagged_seq_modified = bigram_tagger.tag(words)\n",
    "print(tagged_seq_modified)"
   ]
  },
  {
   "cell_type": "code",
   "execution_count": 48,
   "metadata": {},
   "outputs": [
    {
     "name": "stdout",
     "output_type": "stream",
     "text": [
      "[('The', 'DET'), ('2018', 'NUM'), ('FIFA', 'NOUN'), ('World', 'NOUN'), ('Cup', 'NOUN'), ('is', 'VERB'), ('the', 'DET'), ('21st', 'NUM'), ('FIFA', 'NOUN'), ('World', 'NOUN'), ('Cup', 'NOUN'), (',', '.'), ('an', 'DET'), ('international', 'ADJ'), ('football', 'NOUN'), ('tournament', 'NOUN'), ('contested', 'VERB'), ('once', 'ADV'), ('every', 'DET'), ('four', 'NUM'), ('years', 'NOUN')]\n"
     ]
    }
   ],
   "source": [
    "tagged_seq_modified = Viterbi_Trigram_Tagger(words)\n",
    "print(tagged_seq_modified)"
   ]
  },
  {
   "cell_type": "markdown",
   "metadata": {},
   "source": [
    "##### Fifa World cup is getting correctly tagged as Noun and 21st and years as number"
   ]
  },
  {
   "cell_type": "markdown",
   "metadata": {},
   "source": [
    "### Sentence_test_3='NASA invited social media users to experience the launch of ICESAT-2 Satellite'"
   ]
  },
  {
   "cell_type": "code",
   "execution_count": 49,
   "metadata": {},
   "outputs": [
    {
     "name": "stdout",
     "output_type": "stream",
     "text": [
      "[('NASA', 'ADP'), ('invited', 'ADP'), ('social', 'ADJ'), ('media', 'NOUN'), ('users', 'NOUN'), ('to', 'PRT'), ('experience', 'NOUN'), ('the', 'DET'), ('launch', 'NOUN'), ('of', 'ADP'), ('ICESAT-2', 'ADP'), ('Satellite', 'ADP')]\n"
     ]
    }
   ],
   "source": [
    "sentence_test_3='NASA invited social media users to experience the launch of ICESAT-2 Satellite'\n",
    "words = word_tokenize(sentence_test_3)\n",
    "tagged_seq = Vanilla_Viterbi(words)\n",
    "print(tagged_seq)"
   ]
  },
  {
   "cell_type": "code",
   "execution_count": 50,
   "metadata": {},
   "outputs": [
    {
     "name": "stdout",
     "output_type": "stream",
     "text": [
      "[('NASA', 'NOUN'), ('invited', 'NOUN'), ('social', 'ADJ'), ('media', 'NOUN'), ('users', 'NOUN'), ('to', 'PRT'), ('experience', 'NOUN'), ('the', 'DET'), ('launch', 'NOUN'), ('of', 'ADP'), ('ICESAT-2', 'NOUN'), ('Satellite', 'NOUN')]\n"
     ]
    }
   ],
   "source": [
    "tagged_seq_modified = bigram_tagger.tag(words)\n",
    "print(tagged_seq_modified)"
   ]
  },
  {
   "cell_type": "code",
   "execution_count": 51,
   "metadata": {},
   "outputs": [
    {
     "name": "stdout",
     "output_type": "stream",
     "text": [
      "[('NASA', 'NOUN'), ('invited', 'VERB'), ('social', 'ADJ'), ('media', 'NOUN'), ('users', 'NOUN'), ('to', 'PRT'), ('experience', 'NOUN'), ('the', 'DET'), ('launch', 'NOUN'), ('of', 'ADP'), ('ICESAT-2', 'NOUN'), ('Satellite', 'NOUN')]\n"
     ]
    }
   ],
   "source": [
    "tagged_seq_modified = Viterbi_Trigram_Tagger(words)\n",
    "print(tagged_seq_modified)"
   ]
  },
  {
   "cell_type": "markdown",
   "metadata": {},
   "source": [
    "##### NASA getting tagged as noun and invited getting tagged as verb"
   ]
  },
  {
   "cell_type": "markdown",
   "metadata": {},
   "source": [
    "### Sentence_test_4='Twitter is an online news and social networking service on which users post and interact with messages known as tweets.'"
   ]
  },
  {
   "cell_type": "code",
   "execution_count": 52,
   "metadata": {},
   "outputs": [
    {
     "name": "stdout",
     "output_type": "stream",
     "text": [
      "[('Twitter', 'ADP'), ('is', 'VERB'), ('an', 'DET'), ('online', 'ADP'), ('news', 'NOUN'), ('and', 'CONJ'), ('social', 'ADJ'), ('networking', 'NOUN'), ('service', 'NOUN'), ('on', 'ADP'), ('which', 'DET'), ('users', 'NOUN'), ('post', 'NOUN'), ('and', 'CONJ'), ('interact', 'ADP'), ('with', 'ADP'), ('messages', 'ADP'), ('known', 'ADJ'), ('as', 'ADP'), ('tweets', 'ADP'), ('.', '.')]\n"
     ]
    }
   ],
   "source": [
    "sentence_test_4='Twitter is an online news and social networking service on which users post and interact with messages known as tweets.'\n",
    "words = word_tokenize(sentence_test_4)\n",
    "tagged_seq = Vanilla_Viterbi(words)\n",
    "print(tagged_seq)"
   ]
  },
  {
   "cell_type": "code",
   "execution_count": 53,
   "metadata": {},
   "outputs": [
    {
     "name": "stdout",
     "output_type": "stream",
     "text": [
      "[('Twitter', 'NOUN'), ('is', 'VERB'), ('an', 'DET'), ('online', 'NOUN'), ('news', 'NOUN'), ('and', 'CONJ'), ('social', 'ADJ'), ('networking', 'NOUN'), ('service', 'NOUN'), ('on', 'ADP'), ('which', 'DET'), ('users', 'NOUN'), ('post', 'NOUN'), ('and', 'CONJ'), ('interact', 'NOUN'), ('with', 'ADP'), ('messages', 'NOUN'), ('known', 'VERB'), ('as', 'ADP'), ('tweets', 'NOUN'), ('.', '.')]\n"
     ]
    }
   ],
   "source": [
    "tagged_seq_modified = bigram_tagger.tag(words)\n",
    "print(tagged_seq_modified)"
   ]
  },
  {
   "cell_type": "code",
   "execution_count": 54,
   "metadata": {},
   "outputs": [
    {
     "name": "stdout",
     "output_type": "stream",
     "text": [
      "[('Twitter', 'NOUN'), ('is', 'VERB'), ('an', 'DET'), ('online', 'NOUN'), ('news', 'NOUN'), ('and', 'CONJ'), ('social', 'ADJ'), ('networking', 'NOUN'), ('service', 'NOUN'), ('on', 'ADP'), ('which', 'DET'), ('users', 'NOUN'), ('post', 'NOUN'), ('and', 'CONJ'), ('interact', 'NOUN'), ('with', 'ADP'), ('messages', 'VERB'), ('known', 'VERB'), ('as', 'ADP'), ('tweets', 'NOUN'), ('.', '.')]\n"
     ]
    }
   ],
   "source": [
    "tagged_seq_modified = Viterbi_Trigram_Tagger(words)\n",
    "print(tagged_seq_modified)"
   ]
  },
  {
   "cell_type": "markdown",
   "metadata": {},
   "source": [
    "##### Twitter getting tagged as noun and tweets are also getting correctly tagged as noun"
   ]
  },
  {
   "cell_type": "markdown",
   "metadata": {},
   "source": [
    "### Sentence_test_5='Android has been the best-selling OS worldwide on smartphones since 2011 and on tablets since 2013.'"
   ]
  },
  {
   "cell_type": "code",
   "execution_count": 55,
   "metadata": {},
   "outputs": [
    {
     "name": "stdout",
     "output_type": "stream",
     "text": [
      "[('Android', 'ADP'), ('has', 'VERB'), ('been', 'VERB'), ('the', 'DET'), ('best-selling', 'ADJ'), ('OS', 'ADP'), ('worldwide', 'ADP'), ('on', 'ADP'), ('smartphones', 'ADP'), ('since', 'ADP'), ('2011', 'ADP'), ('and', 'CONJ'), ('on', 'ADP'), ('tablets', 'NOUN'), ('since', 'ADP'), ('2013', 'ADP'), ('.', '.')]\n"
     ]
    }
   ],
   "source": [
    "sentence_test_5='Android has been the best-selling OS worldwide on smartphones since 2011 and on tablets since 2013.'\n",
    "words = word_tokenize(sentence_test_5)\n",
    "tagged_seq = Vanilla_Viterbi(words)\n",
    "print(tagged_seq)"
   ]
  },
  {
   "cell_type": "code",
   "execution_count": 56,
   "metadata": {},
   "outputs": [
    {
     "name": "stdout",
     "output_type": "stream",
     "text": [
      "[('Android', 'NOUN'), ('has', 'VERB'), ('been', 'VERB'), ('the', 'DET'), ('best-selling', 'ADJ'), ('OS', 'NOUN'), ('worldwide', 'NOUN'), ('on', 'ADP'), ('smartphones', 'NOUN'), ('since', 'ADP'), ('2011', 'NOUN'), ('and', 'CONJ'), ('on', 'ADP'), ('tablets', 'NOUN'), ('since', 'ADP'), ('2013', 'NOUN'), ('.', '.')]\n"
     ]
    }
   ],
   "source": [
    "tagged_seq_modified = bigram_tagger.tag(words)\n",
    "print(tagged_seq_modified)"
   ]
  },
  {
   "cell_type": "code",
   "execution_count": 57,
   "metadata": {},
   "outputs": [
    {
     "name": "stdout",
     "output_type": "stream",
     "text": [
      "[('Android', 'NOUN'), ('has', 'VERB'), ('been', 'VERB'), ('the', 'DET'), ('best-selling', 'ADJ'), ('OS', 'NOUN'), ('worldwide', 'NOUN'), ('on', 'ADP'), ('smartphones', 'VERB'), ('since', 'ADP'), ('2011', 'NUM'), ('and', 'CONJ'), ('on', 'ADP'), ('tablets', 'NOUN'), ('since', 'ADP'), ('2013', 'NUM'), ('.', '.')]\n"
     ]
    }
   ],
   "source": [
    "tagged_seq_modified = Viterbi_Trigram_Tagger(words)\n",
    "print(tagged_seq_modified)"
   ]
  },
  {
   "cell_type": "markdown",
   "metadata": {},
   "source": [
    "##### smartphones as noun and years are getting tagged as numbers "
   ]
  }
 ],
 "metadata": {
  "kernelspec": {
   "display_name": "Python 3",
   "language": "python",
   "name": "python3"
  },
  "language_info": {
   "codemirror_mode": {
    "name": "ipython",
    "version": 3
   },
   "file_extension": ".py",
   "mimetype": "text/x-python",
   "name": "python",
   "nbconvert_exporter": "python",
   "pygments_lexer": "ipython3",
   "version": "3.8.5"
  }
 },
 "nbformat": 4,
 "nbformat_minor": 2
}
